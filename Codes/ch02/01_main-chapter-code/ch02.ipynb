{
 "cells": [
  {
   "cell_type": "markdown",
   "id": "25aa40e3-5109-433f-9153-f5770531fe94",
   "metadata": {},
   "source": [
    "# 第2章：处理文本"
   ]
  },
  {
   "cell_type": "markdown",
   "id": "76d5d2c0-cba8-404e-9bf3-71a218cae3cf",
   "metadata": {},
   "source": [
    "本笔记本使用的软件包："
   ]
  },
  {
   "cell_type": "code",
   "execution_count": 1,
   "id": "4d1305cf-12d5-46fe-a2c9-36fb71c5b3d3",
   "metadata": {},
   "outputs": [
    {
     "name": "stdout",
     "output_type": "stream",
     "text": [
      "torch version: 2.2.1\n",
      "tiktoken version: 0.6.0\n"
     ]
    }
   ],
   "source": [
    "from importlib.metadata import version\n",
    "\n",
    "import tiktoken\n",
    "import torch\n",
    "\n",
    "print(\"torch version:\", version(\"torch\"))\n",
    "print(\"tiktoken version:\", version(\"tiktoken\"))"
   ]
  },
  {
   "metadata": {
    "ExecuteTime": {
     "end_time": "2024-12-21T07:06:51.718668Z",
     "start_time": "2024-12-21T07:06:51.702708Z"
    }
   },
   "cell_type": "code",
   "source": [
    "import sys\n",
    "print(sys.version)\n"
   ],
   "id": "ec920634b5a14481",
   "outputs": [
    {
     "name": "stdout",
     "output_type": "stream",
     "text": [
      "3.10.11 (tags/v3.10.11:7d4cc5a, Apr  5 2023, 00:38:17) [MSC v.1929 64 bit (AMD64)]\n"
     ]
    }
   ],
   "execution_count": 2
  },
  {
   "cell_type": "markdown",
   "id": "2417139b-2357-44d2-bd67-23f5d7f52ae7",
   "metadata": {},
   "source": [
    "## 2.1 理解词嵌入"
   ]
  },
  {
   "cell_type": "markdown",
   "id": "0b6816ae-e927-43a9-b4dd-e47a9b0e1cf6",
   "metadata": {},
   "source": [
    "- 本节无代码"
   ]
  },
  {
   "cell_type": "markdown",
   "id": "eddbb984-8d23-40c5-bbfa-c3c379e7eec3",
   "metadata": {},
   "source": [
    "## 2.2 文本分词"
   ]
  },
  {
   "cell_type": "markdown",
   "id": "8cceaa18-833d-46b6-b211-b20c53902805",
   "metadata": {},
   "source": [
    "- 加载我们要处理的原始文本\n",
    "- [伊迪丝·华顿的《判决书》](https://en.wikisource.org/wiki/The_Verdict) 是一个公共领域的短篇小说"
   ]
  },
  {
   "cell_type": "code",
   "execution_count": 2,
   "id": "8a769e87-470a-48b9-8bdb-12841b416198",
   "metadata": {},
   "outputs": [
    {
     "name": "stdout",
     "output_type": "stream",
     "text": [
      "Total number of character: 20479\n",
      "I HAD always thought Jack Gisburn rather a cheap genius--though a good fellow enough--so it was no \n"
     ]
    }
   ],
   "source": [
    "with open(\"the-verdict.txt\", \"r\", encoding=\"utf-8\") as f:\n",
    "    raw_text = f.read()\n",
    "    \n",
    "print(\"Total number of character:\", len(raw_text))\n",
    "print(raw_text[:99])"
   ]
  },
  {
   "cell_type": "markdown",
   "id": "9b971a46-ac03-4368-88ae-3f20279e8f4e",
   "metadata": {},
   "source": [
    "- 目标是将这段文本进行分词和嵌入，以便用于语言模型（LLM）\n",
    "- 让我们基于一些简单的样本文本开发一个简单的分词器，然后我们可以将这个分词器应用到上面的文本中\n",
    "- 下面的正则表达式将会根据空格进行分割"
   ]
  },
  {
   "cell_type": "code",
   "id": "737dd5b0-9dbb-4a97-9ae4-3482c8c04be7",
   "metadata": {
    "ExecuteTime": {
     "end_time": "2024-12-21T08:07:32.777202Z",
     "start_time": "2024-12-21T08:07:32.763239Z"
    }
   },
   "source": [
    "import re\n",
    "\n",
    "text = \"Hello, world. This, is a test.\"\n",
    "result = re.split(r'(\\s)', text)\n",
    "\n",
    "print(result)"
   ],
   "outputs": [
    {
     "name": "stdout",
     "output_type": "stream",
     "text": [
      "['Hello,', ' ', 'world.', ' ', 'This,', ' ', 'is', ' ', 'a', ' ', 'test.']\n"
     ]
    }
   ],
   "execution_count": 5
  },
  {
   "cell_type": "markdown",
   "id": "a8c40c18-a9d5-4703-bf71-8261dbcc5ee3",
   "metadata": {},
   "source": [
    "- 我们不仅要分割空格，还要分割逗号和句号，所以我们也要修改正则表达式来做到这一点"
   ]
  },
  {
   "cell_type": "code",
   "id": "ea02489d-01f9-4247-b7dd-a0d63f62ef07",
   "metadata": {
    "ExecuteTime": {
     "end_time": "2024-12-21T08:07:43.528164Z",
     "start_time": "2024-12-21T08:07:43.515197Z"
    }
   },
   "source": [
    "result = re.split(r'([,.]|\\s)', text)\n",
    "\n",
    "print(result)"
   ],
   "outputs": [
    {
     "name": "stdout",
     "output_type": "stream",
     "text": [
      "['Hello', ',', '', ' ', 'world', '.', '', ' ', 'This', ',', '', ' ', 'is', ' ', 'a', ' ', 'test', '.', '']\n"
     ]
    }
   ],
   "execution_count": 6
  },
  {
   "cell_type": "markdown",
   "id": "461d0c86-e3af-4f87-8fae-594a9ca9b6ad",
   "metadata": {},
   "source": [
    "- 我们可以看到，这会创建空字符串，让我们删除它们"
   ]
  },
  {
   "cell_type": "code",
   "id": "4d8a6fb7-2e62-4a12-ad06-ccb04f25fed7",
   "metadata": {
    "ExecuteTime": {
     "end_time": "2024-12-21T08:07:53.201775Z",
     "start_time": "2024-12-21T08:07:53.189807Z"
    }
   },
   "source": [
    "# 从每个元素中删除空白，然后过滤掉所有空字符串。\n",
    "result = [item.strip() for item in result if item.strip()]\n",
    "print(result)"
   ],
   "outputs": [
    {
     "name": "stdout",
     "output_type": "stream",
     "text": [
      "['Hello', ',', 'world', '.', 'This', ',', 'is', 'a', 'test', '.']\n"
     ]
    }
   ],
   "execution_count": 7
  },
  {
   "cell_type": "markdown",
   "id": "250e8694-181e-496f-895d-7cb7d92b5562",
   "metadata": {},
   "source": [
    "- 这看起来很不错，但我们还要处理其他类型的标点符号，如句号、问号等"
   ]
  },
  {
   "cell_type": "code",
   "id": "902f0d9c-9828-4c46-ba32-8fe810c3840a",
   "metadata": {
    "ExecuteTime": {
     "end_time": "2024-12-21T08:08:09.398320Z",
     "start_time": "2024-12-21T08:08:09.385393Z"
    }
   },
   "source": [
    "text = \"Hello, world. Is this-- a test?\"\n",
    "\n",
    "result = re.split(r'([,.?_!\"()\\']|--|\\s)', text)\n",
    "result = [item.strip() for item in result if item.strip()]\n",
    "print(result)"
   ],
   "outputs": [
    {
     "name": "stdout",
     "output_type": "stream",
     "text": [
      "['Hello', ',', 'world', '.', 'Is', 'this', '--', 'a', 'test', '?']\n"
     ]
    }
   ],
   "execution_count": 8
  },
  {
   "cell_type": "markdown",
   "id": "5bbea70b-c030-45d9-b09d-4318164c0bb4",
   "metadata": {},
   "source": [
    "- 这很好，现在我们可以将这个分词器用于原始文本了"
   ]
  },
  {
   "cell_type": "code",
   "id": "8c567caa-8ff5-49a8-a5cc-d365b0a78a99",
   "metadata": {
    "ExecuteTime": {
     "end_time": "2024-12-21T08:08:21.188232Z",
     "start_time": "2024-12-21T08:08:21.172308Z"
    }
   },
   "source": [
    "preprocessed = re.split(r'([,.?_!\"()\\']|--|\\s)', raw_text)\n",
    "preprocessed = [item.strip() for item in preprocessed if item.strip()]\n",
    "print(preprocessed[:30])"
   ],
   "outputs": [
    {
     "name": "stdout",
     "output_type": "stream",
     "text": [
      "['I', 'HAD', 'always', 'thought', 'Jack', 'Gisburn', 'rather', 'a', 'cheap', 'genius', '--', 'though', 'a', 'good', 'fellow', 'enough', '--', 'so', 'it', 'was', 'no', 'great', 'surprise', 'to', 'me', 'to', 'hear', 'that', ',', 'in']\n"
     ]
    }
   ],
   "execution_count": 9
  },
  {
   "cell_type": "markdown",
   "id": "e2a19e1a-5105-4ddb-812a-b7d3117eab95",
   "metadata": {},
   "source": [
    "- 让我们来统计词元（token）的数量"
   ]
  },
  {
   "cell_type": "code",
   "id": "35db7b5e-510b-4c45-995f-f5ad64a8e19c",
   "metadata": {
    "ExecuteTime": {
     "end_time": "2024-12-21T08:08:26.334407Z",
     "start_time": "2024-12-21T08:08:26.321474Z"
    }
   },
   "source": [
    "print(len(preprocessed))"
   ],
   "outputs": [
    {
     "name": "stdout",
     "output_type": "stream",
     "text": [
      "4649\n"
     ]
    }
   ],
   "execution_count": 10
  },
  {
   "cell_type": "markdown",
   "id": "0b5ce8fe-3a07-4f2a-90f1-a0321ce3a231",
   "metadata": {},
   "source": [
    "## 2.3 将词元转换为词元IDs"
   ]
  },
  {
   "cell_type": "markdown",
   "id": "b5973794-7002-4202-8b12-0900cd779720",
   "metadata": {},
   "source": [
    "- 从这些词元中，我们现在可以构建一个词汇表，它包含了所有独特的词元。"
   ]
  },
  {
   "cell_type": "code",
   "id": "7fdf0533-5ab6-42a5-83fa-a3b045de6396",
   "metadata": {
    "ExecuteTime": {
     "end_time": "2024-12-21T08:09:10.960741Z",
     "start_time": "2024-12-21T08:09:10.949771Z"
    }
   },
   "source": [
    "all_words = sorted(list(set(preprocessed)))\n",
    "vocab_size = len(all_words)\n",
    "\n",
    "print(vocab_size)"
   ],
   "outputs": [
    {
     "name": "stdout",
     "output_type": "stream",
     "text": [
      "1159\n"
     ]
    }
   ],
   "execution_count": 11
  },
  {
   "cell_type": "code",
   "id": "77d00d96-881f-4691-bb03-84fec2a75a26",
   "metadata": {
    "ExecuteTime": {
     "end_time": "2024-12-21T08:09:56.624394Z",
     "start_time": "2024-12-21T08:09:56.610433Z"
    }
   },
   "source": [
    "vocab = {token:integer for integer,token in enumerate(all_words)}"
   ],
   "outputs": [],
   "execution_count": 13
  },
  {
   "metadata": {
    "ExecuteTime": {
     "end_time": "2024-12-21T08:11:34.597603Z",
     "start_time": "2024-12-21T08:11:34.525797Z"
    }
   },
   "cell_type": "code",
   "source": "vocab",
   "id": "1f72217707faf304",
   "outputs": [
    {
     "data": {
      "text/plain": [
       "{'!': 0,\n",
       " '\"': 1,\n",
       " \"'\": 2,\n",
       " '(': 3,\n",
       " ')': 4,\n",
       " ',': 5,\n",
       " '--': 6,\n",
       " '.': 7,\n",
       " ':': 8,\n",
       " ';': 9,\n",
       " '?': 10,\n",
       " 'A': 11,\n",
       " 'Ah': 12,\n",
       " 'Among': 13,\n",
       " 'And': 14,\n",
       " 'Are': 15,\n",
       " 'Arrt': 16,\n",
       " 'As': 17,\n",
       " 'At': 18,\n",
       " 'Be': 19,\n",
       " 'Begin': 20,\n",
       " 'Burlington': 21,\n",
       " 'But': 22,\n",
       " 'By': 23,\n",
       " 'Carlo': 24,\n",
       " 'Carlo;': 25,\n",
       " 'Chicago': 26,\n",
       " 'Claude': 27,\n",
       " 'Come': 28,\n",
       " 'Croft': 29,\n",
       " 'Destroyed': 30,\n",
       " 'Devonshire': 31,\n",
       " 'Don': 32,\n",
       " 'Dubarry': 33,\n",
       " 'Emperors': 34,\n",
       " 'Florence': 35,\n",
       " 'For': 36,\n",
       " 'Gallery': 37,\n",
       " 'Gideon': 38,\n",
       " 'Gisburn': 39,\n",
       " 'Gisburns': 40,\n",
       " 'Grafton': 41,\n",
       " 'Greek': 42,\n",
       " 'Grindle': 43,\n",
       " 'Grindle:': 44,\n",
       " 'Grindles': 45,\n",
       " 'HAD': 46,\n",
       " 'Had': 47,\n",
       " 'Hang': 48,\n",
       " 'Has': 49,\n",
       " 'He': 50,\n",
       " 'Her': 51,\n",
       " 'Hermia': 52,\n",
       " 'His': 53,\n",
       " 'How': 54,\n",
       " 'I': 55,\n",
       " 'If': 56,\n",
       " 'In': 57,\n",
       " 'It': 58,\n",
       " 'Jack': 59,\n",
       " 'Jove': 60,\n",
       " 'Just': 61,\n",
       " 'Lord': 62,\n",
       " 'Made': 63,\n",
       " 'Miss': 64,\n",
       " 'Money': 65,\n",
       " 'Monte': 66,\n",
       " 'Moon-dancers': 67,\n",
       " 'Mr': 68,\n",
       " 'Mrs': 69,\n",
       " 'My': 70,\n",
       " 'Never': 71,\n",
       " 'No': 72,\n",
       " 'Now': 73,\n",
       " 'Nutley': 74,\n",
       " 'Of': 75,\n",
       " 'Oh': 76,\n",
       " 'On': 77,\n",
       " 'Once': 78,\n",
       " 'Only': 79,\n",
       " 'Or': 80,\n",
       " 'Perhaps': 81,\n",
       " 'Poor': 82,\n",
       " 'Professional': 83,\n",
       " 'Renaissance': 84,\n",
       " 'Rickham': 85,\n",
       " 'Rickham;': 86,\n",
       " 'Riviera': 87,\n",
       " 'Rome': 88,\n",
       " 'Russian': 89,\n",
       " 'Sevres': 90,\n",
       " 'She': 91,\n",
       " 'Stroud': 92,\n",
       " 'Strouds': 93,\n",
       " 'Suddenly': 94,\n",
       " 'That': 95,\n",
       " 'The': 96,\n",
       " 'Then': 97,\n",
       " 'There': 98,\n",
       " 'There:': 99,\n",
       " 'They': 100,\n",
       " 'This': 101,\n",
       " 'Those': 102,\n",
       " 'Though': 103,\n",
       " 'Thwing': 104,\n",
       " 'Thwings': 105,\n",
       " 'To': 106,\n",
       " 'Usually': 107,\n",
       " 'Venetian': 108,\n",
       " 'Victor': 109,\n",
       " 'Was': 110,\n",
       " 'We': 111,\n",
       " 'Well': 112,\n",
       " 'What': 113,\n",
       " 'When': 114,\n",
       " 'Why': 115,\n",
       " 'Yes': 116,\n",
       " 'You': 117,\n",
       " '_': 118,\n",
       " 'a': 119,\n",
       " 'abdication': 120,\n",
       " 'able': 121,\n",
       " 'about': 122,\n",
       " 'about;': 123,\n",
       " 'above': 124,\n",
       " 'abruptly': 125,\n",
       " 'absolute': 126,\n",
       " 'absorbed': 127,\n",
       " 'absurdity': 128,\n",
       " 'academic': 129,\n",
       " 'accuse': 130,\n",
       " 'accustomed': 131,\n",
       " 'across': 132,\n",
       " 'activity': 133,\n",
       " 'add': 134,\n",
       " 'added': 135,\n",
       " 'admirers': 136,\n",
       " 'adopted': 137,\n",
       " 'adulation': 138,\n",
       " 'advance': 139,\n",
       " 'aesthetic': 140,\n",
       " 'affect': 141,\n",
       " 'afraid': 142,\n",
       " 'after': 143,\n",
       " 'afterward': 144,\n",
       " 'again': 145,\n",
       " 'ago': 146,\n",
       " 'ah': 147,\n",
       " 'air': 148,\n",
       " 'alive': 149,\n",
       " 'all': 150,\n",
       " 'almost': 151,\n",
       " 'alone': 152,\n",
       " 'along': 153,\n",
       " 'always': 154,\n",
       " 'am': 155,\n",
       " 'amazement': 156,\n",
       " 'amid': 157,\n",
       " 'among': 158,\n",
       " 'amplest': 159,\n",
       " 'amusing': 160,\n",
       " 'an': 161,\n",
       " 'and': 162,\n",
       " 'another': 163,\n",
       " 'answer': 164,\n",
       " 'answered': 165,\n",
       " 'any': 166,\n",
       " 'anything': 167,\n",
       " 'anywhere': 168,\n",
       " 'apparent': 169,\n",
       " 'apparently': 170,\n",
       " 'appearance': 171,\n",
       " 'appeared': 172,\n",
       " 'appointed': 173,\n",
       " 'are': 174,\n",
       " 'arm': 175,\n",
       " 'arm-chair': 176,\n",
       " 'arm-chairs': 177,\n",
       " 'arms': 178,\n",
       " 'art': 179,\n",
       " 'articles': 180,\n",
       " 'artist': 181,\n",
       " 'as': 182,\n",
       " 'aside': 183,\n",
       " 'asked': 184,\n",
       " 'at': 185,\n",
       " 'atmosphere': 186,\n",
       " 'atom': 187,\n",
       " 'attack': 188,\n",
       " 'attention': 189,\n",
       " 'attention;': 190,\n",
       " 'attitude': 191,\n",
       " 'audacities': 192,\n",
       " 'away': 193,\n",
       " 'awful': 194,\n",
       " 'axioms': 195,\n",
       " 'azaleas': 196,\n",
       " 'back': 197,\n",
       " 'background': 198,\n",
       " 'balance': 199,\n",
       " 'balancing': 200,\n",
       " 'balustraded': 201,\n",
       " 'basking': 202,\n",
       " 'bath-rooms': 203,\n",
       " 'be': 204,\n",
       " 'beaming': 205,\n",
       " 'bean-stalk': 206,\n",
       " 'bear': 207,\n",
       " 'beard': 208,\n",
       " 'beauty': 209,\n",
       " 'became': 210,\n",
       " 'because': 211,\n",
       " 'becoming': 212,\n",
       " 'bed': 213,\n",
       " 'been': 214,\n",
       " 'before': 215,\n",
       " 'began': 216,\n",
       " 'begun': 217,\n",
       " 'behind': 218,\n",
       " 'being': 219,\n",
       " 'believed': 220,\n",
       " 'beneath': 221,\n",
       " 'bespoke': 222,\n",
       " 'better': 223,\n",
       " 'better;': 224,\n",
       " 'between': 225,\n",
       " 'big': 226,\n",
       " 'bits': 227,\n",
       " 'bitterness': 228,\n",
       " 'blocked': 229,\n",
       " 'born': 230,\n",
       " 'borne': 231,\n",
       " 'boudoir': 232,\n",
       " 'bravura': 233,\n",
       " 'break': 234,\n",
       " 'breaking': 235,\n",
       " 'breathing': 236,\n",
       " 'bric-a-brac': 237,\n",
       " 'briefly': 238,\n",
       " 'brings': 239,\n",
       " 'bronzes': 240,\n",
       " 'brought': 241,\n",
       " 'brown': 242,\n",
       " 'brush': 243,\n",
       " 'bull': 244,\n",
       " 'business': 245,\n",
       " 'but': 246,\n",
       " 'buying': 247,\n",
       " 'by': 248,\n",
       " 'called': 249,\n",
       " 'came': 250,\n",
       " 'can': 251,\n",
       " 'canvas': 252,\n",
       " 'canvases': 253,\n",
       " 'cards': 254,\n",
       " 'care': 255,\n",
       " 'career': 256,\n",
       " 'caught': 257,\n",
       " 'central': 258,\n",
       " 'chair': 259,\n",
       " 'chap': 260,\n",
       " 'characteristic': 261,\n",
       " 'charming': 262,\n",
       " 'cheap': 263,\n",
       " 'check': 264,\n",
       " 'cheeks': 265,\n",
       " 'chest': 266,\n",
       " 'chimney-piece': 267,\n",
       " 'chucked': 268,\n",
       " 'cigar': 269,\n",
       " 'cigarette': 270,\n",
       " 'cigars': 271,\n",
       " 'circulation': 272,\n",
       " 'circumstance': 273,\n",
       " 'circus-clown': 274,\n",
       " 'claimed': 275,\n",
       " 'clasping': 276,\n",
       " 'clear': 277,\n",
       " 'cleverer': 278,\n",
       " 'close': 279,\n",
       " 'clue': 280,\n",
       " 'coat': 281,\n",
       " 'collapsed': 282,\n",
       " 'colour': 283,\n",
       " 'come': 284,\n",
       " 'comfortable': 285,\n",
       " 'coming': 286,\n",
       " 'companion': 287,\n",
       " 'compared': 288,\n",
       " 'complex': 289,\n",
       " 'confident': 290,\n",
       " 'congesting': 291,\n",
       " 'conjugal': 292,\n",
       " 'constraint': 293,\n",
       " 'consummate': 294,\n",
       " 'contended': 295,\n",
       " 'continued': 296,\n",
       " 'corner': 297,\n",
       " 'corrected': 298,\n",
       " 'could': 299,\n",
       " 'couldn': 300,\n",
       " 'count': 301,\n",
       " 'countenance': 302,\n",
       " 'couple': 303,\n",
       " 'course': 304,\n",
       " 'covered': 305,\n",
       " 'craft': 306,\n",
       " 'cried': 307,\n",
       " 'crossed': 308,\n",
       " 'crowned': 309,\n",
       " 'crumbled': 310,\n",
       " 'cry': 311,\n",
       " 'cured': 312,\n",
       " 'curiosity': 313,\n",
       " 'curious': 314,\n",
       " 'current': 315,\n",
       " 'curtains': 316,\n",
       " 'd': 317,\n",
       " 'dabble': 318,\n",
       " 'damask': 319,\n",
       " 'dark': 320,\n",
       " 'dashed': 321,\n",
       " 'day': 322,\n",
       " 'days': 323,\n",
       " 'dead': 324,\n",
       " 'deadening': 325,\n",
       " 'dear': 326,\n",
       " 'deep': 327,\n",
       " 'deerhound': 328,\n",
       " 'degree': 329,\n",
       " 'delicate': 330,\n",
       " 'demand': 331,\n",
       " 'denied': 332,\n",
       " 'deploring': 333,\n",
       " 'deprecating': 334,\n",
       " 'deprecatingly': 335,\n",
       " 'desire': 336,\n",
       " 'destroyed': 337,\n",
       " 'destruction': 338,\n",
       " 'desultory': 339,\n",
       " 'detail': 340,\n",
       " 'diagnosis': 341,\n",
       " 'did': 342,\n",
       " 'didn': 343,\n",
       " 'died': 344,\n",
       " 'dim': 345,\n",
       " 'dimmest': 346,\n",
       " 'dingy': 347,\n",
       " 'dining-room': 348,\n",
       " 'disarming': 349,\n",
       " 'discovery;': 350,\n",
       " 'discrimination': 351,\n",
       " 'discussion': 352,\n",
       " 'disdain': 353,\n",
       " 'disdained': 354,\n",
       " 'disease': 355,\n",
       " 'disguised': 356,\n",
       " 'display': 357,\n",
       " 'dissatisfied': 358,\n",
       " 'distinguished': 359,\n",
       " 'distract': 360,\n",
       " 'divert': 361,\n",
       " 'do': 362,\n",
       " 'doesn': 363,\n",
       " 'doing': 364,\n",
       " 'domestic': 365,\n",
       " 'don': 366,\n",
       " 'done': 367,\n",
       " 'donkey': 368,\n",
       " 'down': 369,\n",
       " 'dozen': 370,\n",
       " 'dragged': 371,\n",
       " 'drawing-room': 372,\n",
       " 'drawing-rooms': 373,\n",
       " 'drawn': 374,\n",
       " 'dress-closets': 375,\n",
       " 'drew': 376,\n",
       " 'dropped': 377,\n",
       " 'each': 378,\n",
       " 'earth': 379,\n",
       " 'ease': 380,\n",
       " 'easel': 381,\n",
       " 'easy': 382,\n",
       " 'echoed': 383,\n",
       " 'economy': 384,\n",
       " 'effect': 385,\n",
       " 'effects': 386,\n",
       " 'efforts': 387,\n",
       " 'egregious': 388,\n",
       " 'eighteenth-century': 389,\n",
       " 'elbow': 390,\n",
       " 'elegant': 391,\n",
       " 'else': 392,\n",
       " 'embarrassed': 393,\n",
       " 'enabled': 394,\n",
       " 'end': 395,\n",
       " 'endless': 396,\n",
       " 'enjoy': 397,\n",
       " 'enlightenment:': 398,\n",
       " 'enough': 399,\n",
       " 'ensuing': 400,\n",
       " 'equally': 401,\n",
       " 'equanimity': 402,\n",
       " 'escape': 403,\n",
       " 'established': 404,\n",
       " 'etching': 405,\n",
       " 'even': 406,\n",
       " 'event': 407,\n",
       " 'ever': 408,\n",
       " 'everlasting': 409,\n",
       " 'every': 410,\n",
       " 'exasperated': 411,\n",
       " 'except': 412,\n",
       " 'excuse': 413,\n",
       " 'excusing': 414,\n",
       " 'existed': 415,\n",
       " 'expected': 416,\n",
       " 'exquisite': 417,\n",
       " 'exquisitely': 418,\n",
       " 'extenuation': 419,\n",
       " 'exterminating': 420,\n",
       " 'extracting': 421,\n",
       " 'eye': 422,\n",
       " 'eyebrows': 423,\n",
       " 'eyes': 424,\n",
       " 'eyes:': 425,\n",
       " 'face': 426,\n",
       " 'faces': 427,\n",
       " 'fact': 428,\n",
       " 'faded': 429,\n",
       " 'failed': 430,\n",
       " 'failure': 431,\n",
       " 'fair': 432,\n",
       " 'faith': 433,\n",
       " 'false': 434,\n",
       " 'familiar': 435,\n",
       " 'famille-verte': 436,\n",
       " 'fancy': 437,\n",
       " 'fashionable': 438,\n",
       " 'fate': 439,\n",
       " 'feather': 440,\n",
       " 'feet': 441,\n",
       " 'fell': 442,\n",
       " 'fellow': 443,\n",
       " 'felt': 444,\n",
       " 'few': 445,\n",
       " 'fewer': 446,\n",
       " 'finality': 447,\n",
       " 'find': 448,\n",
       " 'fingers': 449,\n",
       " 'first': 450,\n",
       " 'fit': 451,\n",
       " 'fitting': 452,\n",
       " 'five': 453,\n",
       " 'flash': 454,\n",
       " 'flashed': 455,\n",
       " 'florid': 456,\n",
       " 'flowers': 457,\n",
       " 'fluently': 458,\n",
       " 'flung': 459,\n",
       " 'follow': 460,\n",
       " 'followed': 461,\n",
       " 'fond': 462,\n",
       " 'footstep': 463,\n",
       " 'for': 464,\n",
       " 'forced': 465,\n",
       " 'forcing': 466,\n",
       " 'forehead': 467,\n",
       " 'foreign': 468,\n",
       " 'foreseen': 469,\n",
       " 'forgive': 470,\n",
       " 'forgotten': 471,\n",
       " 'form': 472,\n",
       " 'formed': 473,\n",
       " 'forming': 474,\n",
       " 'forward': 475,\n",
       " 'fostered': 476,\n",
       " 'found': 477,\n",
       " 'foundations': 478,\n",
       " 'fragment': 479,\n",
       " 'fragments': 480,\n",
       " 'frame': 481,\n",
       " 'frames': 482,\n",
       " 'frequently': 483,\n",
       " 'friend': 484,\n",
       " 'from': 485,\n",
       " 'full': 486,\n",
       " 'fullest': 487,\n",
       " 'furiously': 488,\n",
       " 'furrowed': 489,\n",
       " 'garlanded': 490,\n",
       " 'garlands': 491,\n",
       " 'gave': 492,\n",
       " 'genial': 493,\n",
       " 'genius': 494,\n",
       " 'gesture': 495,\n",
       " 'get': 496,\n",
       " 'getting': 497,\n",
       " 'give': 498,\n",
       " 'given': 499,\n",
       " 'glad': 500,\n",
       " 'glanced': 501,\n",
       " 'glimpse': 502,\n",
       " 'gloried': 503,\n",
       " 'glory': 504,\n",
       " 'go': 505,\n",
       " 'going': 506,\n",
       " 'gone': 507,\n",
       " 'good': 508,\n",
       " 'good-breeding': 509,\n",
       " 'good-humoured': 510,\n",
       " 'got': 511,\n",
       " 'grace': 512,\n",
       " 'gradually': 513,\n",
       " 'gray': 514,\n",
       " 'grayish': 515,\n",
       " 'great': 516,\n",
       " 'greatest': 517,\n",
       " 'greatness': 518,\n",
       " 'grew': 519,\n",
       " 'groping': 520,\n",
       " 'growing': 521,\n",
       " 'had': 522,\n",
       " 'hadn': 523,\n",
       " 'hair': 524,\n",
       " 'half': 525,\n",
       " 'half-light': 526,\n",
       " 'half-mechanically': 527,\n",
       " 'hall': 528,\n",
       " 'hand': 529,\n",
       " 'hands': 530,\n",
       " 'handsome': 531,\n",
       " 'hanging': 532,\n",
       " 'happen': 533,\n",
       " 'happened': 534,\n",
       " 'hard': 535,\n",
       " 'hardly': 536,\n",
       " 'has': 537,\n",
       " 'have': 538,\n",
       " 'haven': 539,\n",
       " 'having': 540,\n",
       " 'he': 541,\n",
       " 'head': 542,\n",
       " 'hear': 543,\n",
       " 'heard': 544,\n",
       " 'heart': 545,\n",
       " 'height': 546,\n",
       " 'her': 547,\n",
       " 'here': 548,\n",
       " 'here;': 549,\n",
       " 'hermit': 550,\n",
       " 'herself': 551,\n",
       " 'hesitations': 552,\n",
       " 'hide': 553,\n",
       " 'high': 554,\n",
       " 'him': 555,\n",
       " 'him:': 556,\n",
       " 'himself': 557,\n",
       " 'hint': 558,\n",
       " 'his': 559,\n",
       " 'history': 560,\n",
       " 'holding': 561,\n",
       " 'home': 562,\n",
       " 'honour': 563,\n",
       " 'hooded': 564,\n",
       " 'hostess': 565,\n",
       " 'hostess:': 566,\n",
       " 'hot-house': 567,\n",
       " 'hour': 568,\n",
       " 'hours': 569,\n",
       " 'house': 570,\n",
       " 'how': 571,\n",
       " 'hung': 572,\n",
       " 'husband': 573,\n",
       " 'idea': 574,\n",
       " 'idle': 575,\n",
       " 'idling': 576,\n",
       " 'if': 577,\n",
       " 'immediately': 578,\n",
       " 'in': 579,\n",
       " 'incense': 580,\n",
       " 'indifferent;': 581,\n",
       " 'inevitable': 582,\n",
       " 'inevitably': 583,\n",
       " 'inflexible': 584,\n",
       " 'insensible': 585,\n",
       " 'insignificant': 586,\n",
       " 'instinctively': 587,\n",
       " 'instructive': 588,\n",
       " 'interesting': 589,\n",
       " 'into': 590,\n",
       " 'ironic': 591,\n",
       " 'irony': 592,\n",
       " 'irrelevance': 593,\n",
       " 'irrevocable': 594,\n",
       " 'is': 595,\n",
       " 'it': 596,\n",
       " 'it;': 597,\n",
       " 'its': 598,\n",
       " 'itself': 599,\n",
       " 'jardiniere': 600,\n",
       " 'jealousy': 601,\n",
       " 'just': 602,\n",
       " 'keep': 603,\n",
       " 'kept': 604,\n",
       " 'kind': 605,\n",
       " 'knees': 606,\n",
       " 'knew': 607,\n",
       " 'know': 608,\n",
       " 'know;': 609,\n",
       " 'known': 610,\n",
       " 'laid': 611,\n",
       " 'lair': 612,\n",
       " 'landing': 613,\n",
       " 'language': 614,\n",
       " 'last': 615,\n",
       " 'late': 616,\n",
       " 'later': 617,\n",
       " 'latter': 618,\n",
       " 'laugh': 619,\n",
       " 'laugh:': 620,\n",
       " 'laughed': 621,\n",
       " 'lay': 622,\n",
       " 'leading': 623,\n",
       " 'lean': 624,\n",
       " 'learned': 625,\n",
       " 'least': 626,\n",
       " 'leathery:': 627,\n",
       " 'leave': 628,\n",
       " 'led': 629,\n",
       " 'left': 630,\n",
       " 'leisure': 631,\n",
       " 'lends': 632,\n",
       " 'lent': 633,\n",
       " 'let': 634,\n",
       " 'lies': 635,\n",
       " 'life': 636,\n",
       " 'life-likeness': 637,\n",
       " 'lift': 638,\n",
       " 'lifted': 639,\n",
       " 'light': 640,\n",
       " 'lightly;': 641,\n",
       " 'like': 642,\n",
       " 'liked': 643,\n",
       " 'line': 644,\n",
       " 'lines': 645,\n",
       " 'lingered': 646,\n",
       " 'lips': 647,\n",
       " 'lit': 648,\n",
       " 'little': 649,\n",
       " 'little:': 650,\n",
       " 'live': 651,\n",
       " 'll': 652,\n",
       " 'loathing': 653,\n",
       " 'long': 654,\n",
       " 'longed': 655,\n",
       " 'longer': 656,\n",
       " 'look': 657,\n",
       " 'looked': 658,\n",
       " 'looking': 659,\n",
       " 'lose': 660,\n",
       " 'loss': 661,\n",
       " 'lounging': 662,\n",
       " 'lovely': 663,\n",
       " 'lucky': 664,\n",
       " 'lump': 665,\n",
       " 'luncheon-table': 666,\n",
       " 'luxury': 667,\n",
       " 'lying': 668,\n",
       " 'made': 669,\n",
       " 'make': 670,\n",
       " 'man': 671,\n",
       " 'manage': 672,\n",
       " 'managed': 673,\n",
       " 'mantel-piece': 674,\n",
       " 'marble': 675,\n",
       " 'married': 676,\n",
       " 'may': 677,\n",
       " 'me': 678,\n",
       " 'meant': 679,\n",
       " 'mediocrity': 680,\n",
       " 'medium': 681,\n",
       " 'mentioned': 682,\n",
       " 'mere': 683,\n",
       " 'merely': 684,\n",
       " 'met': 685,\n",
       " 'might': 686,\n",
       " 'mighty': 687,\n",
       " 'millionaire': 688,\n",
       " 'mine': 689,\n",
       " 'mine:': 690,\n",
       " 'minute': 691,\n",
       " 'minutes': 692,\n",
       " 'mirrors': 693,\n",
       " 'modest': 694,\n",
       " 'modesty': 695,\n",
       " 'moment': 696,\n",
       " 'money': 697,\n",
       " 'monumental': 698,\n",
       " 'mood': 699,\n",
       " 'morbidly': 700,\n",
       " 'more': 701,\n",
       " 'most': 702,\n",
       " 'mourn': 703,\n",
       " 'mourned': 704,\n",
       " 'moustache': 705,\n",
       " 'moved': 706,\n",
       " 'much': 707,\n",
       " 'muddling;': 708,\n",
       " 'multiplied': 709,\n",
       " 'murmur': 710,\n",
       " 'muscles': 711,\n",
       " 'must': 712,\n",
       " 'my': 713,\n",
       " 'myself': 714,\n",
       " 'mysterious': 715,\n",
       " 'naive': 716,\n",
       " 'near': 717,\n",
       " 'nearly': 718,\n",
       " 'negatived': 719,\n",
       " 'nervous': 720,\n",
       " 'nervousness;': 721,\n",
       " 'neutral': 722,\n",
       " 'never': 723,\n",
       " 'next': 724,\n",
       " 'no': 725,\n",
       " 'none': 726,\n",
       " 'not': 727,\n",
       " 'note': 728,\n",
       " 'nothing': 729,\n",
       " 'now': 730,\n",
       " 'nymphs': 731,\n",
       " 'oak': 732,\n",
       " 'obituary': 733,\n",
       " 'object': 734,\n",
       " 'objects': 735,\n",
       " 'occurred': 736,\n",
       " 'oddly': 737,\n",
       " 'of': 738,\n",
       " 'off': 739,\n",
       " 'often': 740,\n",
       " 'oh': 741,\n",
       " 'old': 742,\n",
       " 'on': 743,\n",
       " 'once': 744,\n",
       " 'one': 745,\n",
       " 'ones': 746,\n",
       " 'only': 747,\n",
       " 'onto': 748,\n",
       " 'open': 749,\n",
       " 'or': 750,\n",
       " 'other': 751,\n",
       " 'our': 752,\n",
       " 'ourselves': 753,\n",
       " 'out': 754,\n",
       " 'out:': 755,\n",
       " 'outline': 756,\n",
       " 'oval': 757,\n",
       " 'over': 758,\n",
       " 'own': 759,\n",
       " 'packed': 760,\n",
       " 'paid': 761,\n",
       " 'paint': 762,\n",
       " 'painted': 763,\n",
       " 'painted;': 764,\n",
       " 'painter': 765,\n",
       " 'painting': 766,\n",
       " 'painting;': 767,\n",
       " 'pale': 768,\n",
       " 'paled': 769,\n",
       " 'palm-trees;': 770,\n",
       " 'panel': 771,\n",
       " 'panelling': 772,\n",
       " 'pardonable': 773,\n",
       " 'pardoned': 774,\n",
       " 'part': 775,\n",
       " 'passages': 776,\n",
       " 'passing': 777,\n",
       " 'past': 778,\n",
       " 'pastels': 779,\n",
       " 'pathos': 780,\n",
       " 'patient': 781,\n",
       " 'people': 782,\n",
       " 'perceptible': 783,\n",
       " 'perfect': 784,\n",
       " 'persistence': 785,\n",
       " 'persuasively': 786,\n",
       " 'phrase': 787,\n",
       " 'picture': 788,\n",
       " 'pictures': 789,\n",
       " 'pines': 790,\n",
       " 'pink': 791,\n",
       " 'place': 792,\n",
       " 'placed': 793,\n",
       " 'plain': 794,\n",
       " 'platitudes': 795,\n",
       " 'pleased': 796,\n",
       " 'pockets': 797,\n",
       " 'point': 798,\n",
       " 'poised': 799,\n",
       " 'poor': 800,\n",
       " 'portrait': 801,\n",
       " 'posing': 802,\n",
       " 'possessed': 803,\n",
       " 'poverty': 804,\n",
       " 'predicted': 805,\n",
       " 'preliminary': 806,\n",
       " 'presenting': 807,\n",
       " 'prestidigitation': 808,\n",
       " 'pretty': 809,\n",
       " 'previous': 810,\n",
       " 'price': 811,\n",
       " 'pride': 812,\n",
       " 'pride:': 813,\n",
       " 'princely': 814,\n",
       " 'prism': 815,\n",
       " 'problem': 816,\n",
       " 'proclaiming': 817,\n",
       " 'prodigious': 818,\n",
       " 'profusion': 819,\n",
       " 'protest': 820,\n",
       " 'prove': 821,\n",
       " 'public': 822,\n",
       " 'purblind': 823,\n",
       " 'purely': 824,\n",
       " 'pushed': 825,\n",
       " 'put': 826,\n",
       " 'qualities': 827,\n",
       " 'quality': 828,\n",
       " 'queerly': 829,\n",
       " 'question': 830,\n",
       " 'question:': 831,\n",
       " 'quickly': 832,\n",
       " 'quietly': 833,\n",
       " 'quite': 834,\n",
       " 'quote': 835,\n",
       " 'rain': 836,\n",
       " 'raised': 837,\n",
       " 'random': 838,\n",
       " 'rather': 839,\n",
       " 're': 840,\n",
       " 'real': 841,\n",
       " 'really': 842,\n",
       " 'reared': 843,\n",
       " 'reason': 844,\n",
       " 'reassurance': 845,\n",
       " 'recovering': 846,\n",
       " 'recreated': 847,\n",
       " 'reflected': 848,\n",
       " 'reflection': 849,\n",
       " 'regrets': 850,\n",
       " 'relatively': 851,\n",
       " 'remained': 852,\n",
       " 'remember': 853,\n",
       " 'reminded': 854,\n",
       " 'repeating': 855,\n",
       " 'represented': 856,\n",
       " 'reproduction': 857,\n",
       " 'resented': 858,\n",
       " 'resolve': 859,\n",
       " 'resources': 860,\n",
       " 'rest': 861,\n",
       " 'rich': 862,\n",
       " 'rich;': 863,\n",
       " 'ridiculous': 864,\n",
       " 'robbed': 865,\n",
       " 'romantic': 866,\n",
       " 'room': 867,\n",
       " 'rose': 868,\n",
       " 'rs': 869,\n",
       " 'rule': 870,\n",
       " 'run': 871,\n",
       " 's': 872,\n",
       " 'said': 873,\n",
       " 'said:': 874,\n",
       " 'same': 875,\n",
       " 'satisfaction': 876,\n",
       " 'satisfaction:': 877,\n",
       " 'savour': 878,\n",
       " 'saw': 879,\n",
       " 'say': 880,\n",
       " 'say:': 881,\n",
       " 'saying': 882,\n",
       " 'says': 883,\n",
       " 'scorn': 884,\n",
       " 'scornful': 885,\n",
       " 'secret': 886,\n",
       " 'see': 887,\n",
       " 'seemed': 888,\n",
       " 'seen': 889,\n",
       " 'self-confident': 890,\n",
       " 'send': 891,\n",
       " 'sensation': 892,\n",
       " 'sensitive': 893,\n",
       " 'sent': 894,\n",
       " 'serious': 895,\n",
       " 'set': 896,\n",
       " 'sex': 897,\n",
       " 'shade': 898,\n",
       " 'shaking': 899,\n",
       " 'shall': 900,\n",
       " 'she': 901,\n",
       " 'shirked': 902,\n",
       " 'short': 903,\n",
       " 'should': 904,\n",
       " 'shoulder': 905,\n",
       " 'shoulders': 906,\n",
       " 'show': 907,\n",
       " 'showed': 908,\n",
       " 'showy': 909,\n",
       " 'shrug': 910,\n",
       " 'shrugged': 911,\n",
       " 'sight': 912,\n",
       " 'sign': 913,\n",
       " 'silent;': 914,\n",
       " 'silver': 915,\n",
       " 'similar': 916,\n",
       " 'simpleton': 917,\n",
       " 'simplifications': 918,\n",
       " 'simply': 919,\n",
       " 'since': 920,\n",
       " 'single': 921,\n",
       " 'sitter': 922,\n",
       " 'sitters': 923,\n",
       " 'sketch': 924,\n",
       " 'skill': 925,\n",
       " 'slight': 926,\n",
       " 'slightly': 927,\n",
       " 'slowly:': 928,\n",
       " 'small': 929,\n",
       " 'smile': 930,\n",
       " 'smiling': 931,\n",
       " 'sneer': 932,\n",
       " 'so': 933,\n",
       " 'solace': 934,\n",
       " 'some': 935,\n",
       " 'somebody': 936,\n",
       " 'something': 937,\n",
       " 'spacious': 938,\n",
       " 'spaniel': 939,\n",
       " 'speaking-tubes': 940,\n",
       " 'speculations;': 941,\n",
       " 'spite': 942,\n",
       " 'splash': 943,\n",
       " 'square': 944,\n",
       " 'stairs': 945,\n",
       " 'stammer': 946,\n",
       " 'stand': 947,\n",
       " 'standing': 948,\n",
       " 'started': 949,\n",
       " 'stay': 950,\n",
       " 'still': 951,\n",
       " 'stocked': 952,\n",
       " 'stood': 953,\n",
       " 'stopped': 954,\n",
       " 'stopping': 955,\n",
       " 'straddling': 956,\n",
       " 'straight': 957,\n",
       " 'strain': 958,\n",
       " 'straining': 959,\n",
       " 'strange': 960,\n",
       " 'straw': 961,\n",
       " 'stream': 962,\n",
       " 'stroke': 963,\n",
       " 'strokes': 964,\n",
       " 'strolled': 965,\n",
       " 'strongest': 966,\n",
       " 'strongly': 967,\n",
       " 'struck': 968,\n",
       " 'studio': 969,\n",
       " 'stuff': 970,\n",
       " 'subject': 971,\n",
       " 'substantial': 972,\n",
       " 'suburban': 973,\n",
       " 'such': 974,\n",
       " 'suddenly': 975,\n",
       " 'suffered': 976,\n",
       " 'sugar': 977,\n",
       " 'suggested': 978,\n",
       " 'sunburn': 979,\n",
       " 'sunburnt': 980,\n",
       " 'sunlit': 981,\n",
       " 'superb': 982,\n",
       " 'sure': 983,\n",
       " 'surest': 984,\n",
       " 'surface': 985,\n",
       " 'surprise': 986,\n",
       " 'surprised': 987,\n",
       " 'surrounded': 988,\n",
       " 'suspected': 989,\n",
       " 'sweetly': 990,\n",
       " 'sweetness': 991,\n",
       " 'swelling': 992,\n",
       " 'swept': 993,\n",
       " 'swum': 994,\n",
       " 't': 995,\n",
       " 'table': 996,\n",
       " 'take': 997,\n",
       " 'taken': 998,\n",
       " 'talking': 999,\n",
       " ...}"
      ]
     },
     "execution_count": 19,
     "metadata": {},
     "output_type": "execute_result"
    }
   ],
   "execution_count": 19
  },
  {
   "cell_type": "markdown",
   "id": "75bd1f81-3a8f-4dd9-9dd6-e75f32dacbe3",
   "metadata": {},
   "source": [
    "- 以下是这个词汇表中的前50个条目："
   ]
  },
  {
   "cell_type": "code",
   "id": "e1c5de4a-aa4e-4aec-b532-10bb364039d6",
   "metadata": {
    "ExecuteTime": {
     "end_time": "2024-12-21T08:11:00.726756Z",
     "start_time": "2024-12-21T08:11:00.716785Z"
    }
   },
   "source": [
    "for i, item in enumerate(vocab.items()):\n",
    "    print(item)\n",
    "    if i >= 50:\n",
    "        break"
   ],
   "outputs": [
    {
     "name": "stdout",
     "output_type": "stream",
     "text": [
      "('!', 0)\n",
      "('\"', 1)\n",
      "(\"'\", 2)\n",
      "('(', 3)\n",
      "(')', 4)\n",
      "(',', 5)\n",
      "('--', 6)\n",
      "('.', 7)\n",
      "(':', 8)\n",
      "(';', 9)\n",
      "('?', 10)\n",
      "('A', 11)\n",
      "('Ah', 12)\n",
      "('Among', 13)\n",
      "('And', 14)\n",
      "('Are', 15)\n",
      "('Arrt', 16)\n",
      "('As', 17)\n",
      "('At', 18)\n",
      "('Be', 19)\n",
      "('Begin', 20)\n",
      "('Burlington', 21)\n",
      "('But', 22)\n",
      "('By', 23)\n",
      "('Carlo', 24)\n",
      "('Carlo;', 25)\n",
      "('Chicago', 26)\n",
      "('Claude', 27)\n",
      "('Come', 28)\n",
      "('Croft', 29)\n",
      "('Destroyed', 30)\n",
      "('Devonshire', 31)\n",
      "('Don', 32)\n",
      "('Dubarry', 33)\n",
      "('Emperors', 34)\n",
      "('Florence', 35)\n",
      "('For', 36)\n",
      "('Gallery', 37)\n",
      "('Gideon', 38)\n",
      "('Gisburn', 39)\n",
      "('Gisburns', 40)\n",
      "('Grafton', 41)\n",
      "('Greek', 42)\n",
      "('Grindle', 43)\n",
      "('Grindle:', 44)\n",
      "('Grindles', 45)\n",
      "('HAD', 46)\n",
      "('Had', 47)\n",
      "('Hang', 48)\n",
      "('Has', 49)\n",
      "('He', 50)\n"
     ]
    }
   ],
   "execution_count": 17
  },
  {
   "cell_type": "markdown",
   "id": "4e569647-2589-4c9d-9a5c-aef1c88a0a9a",
   "metadata": {},
   "source": [
    "- 将所有这些整合到一个分词器类（tokenizer class）中"
   ]
  },
  {
   "cell_type": "code",
   "id": "f531bf46-7c25-4ef8-bff8-0d27518676d5",
   "metadata": {
    "ExecuteTime": {
     "end_time": "2024-12-21T08:11:10.782540Z",
     "start_time": "2024-12-21T08:11:10.775525Z"
    }
   },
   "source": [
    "class SimpleTokenizerV1:\n",
    "    def __init__(self, vocab):\n",
    "        self.str_to_int = vocab\n",
    "        self.int_to_str = {i:s for s,i in vocab.items()}\n",
    "    \n",
    "    def encode(self, text):\n",
    "        preprocessed = re.split(r'([,.?_!\"()\\']|--|\\s)', text)\n",
    "        preprocessed = [item.strip() for item in preprocessed if item.strip()]\n",
    "        ids = [self.str_to_int[s] for s in preprocessed]\n",
    "        return ids\n",
    "        \n",
    "    def decode(self, ids):\n",
    "        text = \" \".join([self.int_to_str[i] for i in ids])\n",
    "        # Replace spaces before the specified punctuations\n",
    "        text = re.sub(r'\\s+([,.?!\"()\\'])', r'\\1', text)\n",
    "        return text"
   ],
   "outputs": [],
   "execution_count": 18
  },
  {
   "cell_type": "markdown",
   "id": "c2950a94-6b0d-474e-8ed0-66d0c3c1a95c",
   "metadata": {},
   "source": [
    "- 我们可以使用分词器将本文编码成整数\n",
    "- 这些整数随后可以作为语言模型（LLM）的输入进行嵌入（稍后）。"
   ]
  },
  {
   "metadata": {},
   "cell_type": "code",
   "outputs": [],
   "execution_count": null,
   "source": "",
   "id": "32ed87d76c29e98d"
  },
  {
   "cell_type": "code",
   "id": "647364ec-7995-4654-9b4a-7607ccf5f1e4",
   "metadata": {
    "ExecuteTime": {
     "end_time": "2024-12-21T08:24:08.734308Z",
     "start_time": "2024-12-21T08:24:08.723355Z"
    }
   },
   "source": [
    "tokenizer = SimpleTokenizerV1(vocab)\n",
    "\n",
    "text = \"\"\"\"It's the last he painted, you know,\" Mrs. Gisburn said with pardonable pride.\"\"\"\n",
    "ids = tokenizer.encode(text)\n",
    "print(ids)"
   ],
   "outputs": [
    {
     "name": "stdout",
     "output_type": "stream",
     "text": [
      "[1, 58, 2, 872, 1013, 615, 541, 763, 5, 1155, 608, 5, 1, 69, 7, 39, 873, 1136, 773, 812, 7]\n"
     ]
    }
   ],
   "execution_count": 20
  },
  {
   "cell_type": "markdown",
   "id": "3201706e-a487-4b60-b99d-5765865f29a0",
   "metadata": {},
   "source": [
    "- 我们可以将数字解码成文本"
   ]
  },
  {
   "cell_type": "code",
   "id": "01d8c8fb-432d-4a49-b332-99f23b233746",
   "metadata": {
    "ExecuteTime": {
     "end_time": "2024-12-21T08:24:18.248867Z",
     "start_time": "2024-12-21T08:24:18.231926Z"
    }
   },
   "source": [
    "tokenizer.decode(ids)"
   ],
   "outputs": [
    {
     "data": {
      "text/plain": [
       "'\" It\\' s the last he painted, you know,\" Mrs. Gisburn said with pardonable pride.'"
      ]
     },
     "execution_count": 21,
     "metadata": {},
     "output_type": "execute_result"
    }
   ],
   "execution_count": 21
  },
  {
   "cell_type": "code",
   "id": "54f6aa8b-9827-412e-9035-e827296ab0fe",
   "metadata": {
    "ExecuteTime": {
     "end_time": "2024-12-21T08:24:48.112453Z",
     "start_time": "2024-12-21T08:24:48.093997Z"
    }
   },
   "source": [
    "tokenizer.decode(tokenizer.encode(text))"
   ],
   "outputs": [
    {
     "data": {
      "text/plain": [
       "'\" It\\' s the last he painted, you know,\" Mrs. Gisburn said with pardonable pride.'"
      ]
     },
     "execution_count": 22,
     "metadata": {},
     "output_type": "execute_result"
    }
   ],
   "execution_count": 22
  },
  {
   "cell_type": "markdown",
   "id": "4b821ef8-4d53-43b6-a2b2-aef808c343c7",
   "metadata": {},
   "source": [
    "## 2.4 添加特殊上下文词元"
   ]
  },
  {
   "cell_type": "markdown",
   "id": "9d709d57-2486-4152-b7f9-d3e4bd8634cd",
   "metadata": {},
   "source": [
    "- 一些分词器使用特殊词元来帮助语言模型（LLM）获取额外的上下文信息。\n",
    "- 一些特殊的词元是\n",
    "  - `[BOS]` (beginning of sequence) 标志着文本的开始\n",
    "  - `[EOS]` (end of sequence) 标记文本结束的位置（通常用于连接多个不相关的文本，如两篇不同的维基百科文章或两本不同的书等）\n",
    "  - `[PAD]` (padding) 如果我们训练 LLM 的批量大于 1（我们可能会包含多个长度不同的文本；使用填充标记，我们会将较短的文本填充为最长的文本，这样所有文本的长度就相等了。）\n",
    "- `[UNK]` 代表未列入词汇表的单词\n",
    "\n",
    "- 请注意，GPT-2 不需要上述任何标记，而只使用 `<|endoftext|>`来降低复杂性\n",
    "-  `<|endoftext|>` 类似于上文提到的`[EOS]`\n",
    "-  GPT 也使用 `<|endoftext|>` 作为填充词元（因为在批量输入训练时我们通常会使用掩码，反正我们不会关注填充的词元，所以这些词元是什么并不重要）。\n",
    "-  GPT-2 不使用 `<UNK>` 词元来处理词汇表之外的单词；相反，GPT-2 使用字节对编码（BPE）分词器，它将单词分解为子词单元，我们将在后面的部分讨论这一点。"
   ]
  },
  {
   "cell_type": "markdown",
   "id": "c661a397-da06-4a86-ac27-072dbe7cb172",
   "metadata": {},
   "source": [
    "- 让我们来看看将下面的文本进行分词后会发生什么："
   ]
  },
  {
   "cell_type": "code",
   "id": "d5767eff-440c-4de1-9289-f789349d6b85",
   "metadata": {
    "ExecuteTime": {
     "end_time": "2024-12-21T08:49:10.139934Z",
     "start_time": "2024-12-21T08:49:09.647299Z"
    }
   },
   "source": [
    "tokenizer = SimpleTokenizerV1(vocab)\n",
    "\n",
    "text = \"Hello, do you like tea. Is this-- a test?\"\n",
    "\n",
    "tokenizer.encode(text)"
   ],
   "outputs": [
    {
     "ename": "KeyError",
     "evalue": "'Hello'",
     "output_type": "error",
     "traceback": [
      "\u001B[1;31m---------------------------------------------------------------------------\u001B[0m",
      "\u001B[1;31mKeyError\u001B[0m                                  Traceback (most recent call last)",
      "Cell \u001B[1;32mIn[23], line 5\u001B[0m\n\u001B[0;32m      1\u001B[0m tokenizer \u001B[38;5;241m=\u001B[39m SimpleTokenizerV1(vocab)\n\u001B[0;32m      3\u001B[0m text \u001B[38;5;241m=\u001B[39m \u001B[38;5;124m\"\u001B[39m\u001B[38;5;124mHello, do you like tea. Is this-- a test?\u001B[39m\u001B[38;5;124m\"\u001B[39m\n\u001B[1;32m----> 5\u001B[0m \u001B[43mtokenizer\u001B[49m\u001B[38;5;241;43m.\u001B[39;49m\u001B[43mencode\u001B[49m\u001B[43m(\u001B[49m\u001B[43mtext\u001B[49m\u001B[43m)\u001B[49m\n",
      "Cell \u001B[1;32mIn[18], line 9\u001B[0m, in \u001B[0;36mSimpleTokenizerV1.encode\u001B[1;34m(self, text)\u001B[0m\n\u001B[0;32m      7\u001B[0m preprocessed \u001B[38;5;241m=\u001B[39m re\u001B[38;5;241m.\u001B[39msplit(\u001B[38;5;124mr\u001B[39m\u001B[38;5;124m'\u001B[39m\u001B[38;5;124m([,.?_!\u001B[39m\u001B[38;5;124m\"\u001B[39m\u001B[38;5;124m()\u001B[39m\u001B[38;5;130;01m\\'\u001B[39;00m\u001B[38;5;124m]|--|\u001B[39m\u001B[38;5;124m\\\u001B[39m\u001B[38;5;124ms)\u001B[39m\u001B[38;5;124m'\u001B[39m, text)\n\u001B[0;32m      8\u001B[0m preprocessed \u001B[38;5;241m=\u001B[39m [item\u001B[38;5;241m.\u001B[39mstrip() \u001B[38;5;28;01mfor\u001B[39;00m item \u001B[38;5;129;01min\u001B[39;00m preprocessed \u001B[38;5;28;01mif\u001B[39;00m item\u001B[38;5;241m.\u001B[39mstrip()]\n\u001B[1;32m----> 9\u001B[0m ids \u001B[38;5;241m=\u001B[39m [\u001B[38;5;28mself\u001B[39m\u001B[38;5;241m.\u001B[39mstr_to_int[s] \u001B[38;5;28;01mfor\u001B[39;00m s \u001B[38;5;129;01min\u001B[39;00m preprocessed]\n\u001B[0;32m     10\u001B[0m \u001B[38;5;28;01mreturn\u001B[39;00m ids\n",
      "Cell \u001B[1;32mIn[18], line 9\u001B[0m, in \u001B[0;36m<listcomp>\u001B[1;34m(.0)\u001B[0m\n\u001B[0;32m      7\u001B[0m preprocessed \u001B[38;5;241m=\u001B[39m re\u001B[38;5;241m.\u001B[39msplit(\u001B[38;5;124mr\u001B[39m\u001B[38;5;124m'\u001B[39m\u001B[38;5;124m([,.?_!\u001B[39m\u001B[38;5;124m\"\u001B[39m\u001B[38;5;124m()\u001B[39m\u001B[38;5;130;01m\\'\u001B[39;00m\u001B[38;5;124m]|--|\u001B[39m\u001B[38;5;124m\\\u001B[39m\u001B[38;5;124ms)\u001B[39m\u001B[38;5;124m'\u001B[39m, text)\n\u001B[0;32m      8\u001B[0m preprocessed \u001B[38;5;241m=\u001B[39m [item\u001B[38;5;241m.\u001B[39mstrip() \u001B[38;5;28;01mfor\u001B[39;00m item \u001B[38;5;129;01min\u001B[39;00m preprocessed \u001B[38;5;28;01mif\u001B[39;00m item\u001B[38;5;241m.\u001B[39mstrip()]\n\u001B[1;32m----> 9\u001B[0m ids \u001B[38;5;241m=\u001B[39m [\u001B[38;5;28;43mself\u001B[39;49m\u001B[38;5;241;43m.\u001B[39;49m\u001B[43mstr_to_int\u001B[49m\u001B[43m[\u001B[49m\u001B[43ms\u001B[49m\u001B[43m]\u001B[49m \u001B[38;5;28;01mfor\u001B[39;00m s \u001B[38;5;129;01min\u001B[39;00m preprocessed]\n\u001B[0;32m     10\u001B[0m \u001B[38;5;28;01mreturn\u001B[39;00m ids\n",
      "\u001B[1;31mKeyError\u001B[0m: 'Hello'"
     ]
    }
   ],
   "execution_count": 23
  },
  {
   "cell_type": "markdown",
   "id": "dc53ee0c-fe2b-4cd8-a946-5471f7651acf",
   "metadata": {},
   "source": [
    "- 由于词汇表中不包含 \"Hello \"一词，因此上面的示例产生了错误\n",
    "- 为了处理这种情况，我们可以在词汇表中添加特殊词元，如`\"<|unk|>\"`，以表示未知词\n",
    "- 既然我们已经在扩展词汇表，那就再添加一个名为`\"<|endoftext|>\"`的词元，它在 GPT-2 训练中用于表示文本的结束（它也用于连接文本，比如我们的训练数据集由多篇文章、书籍等组成）。"
   ]
  },
  {
   "cell_type": "code",
   "id": "ce9df29c-6c5b-43f1-8c1a-c7f7b79db78f",
   "metadata": {
    "ExecuteTime": {
     "end_time": "2024-12-21T08:50:21.833722Z",
     "start_time": "2024-12-21T08:50:21.820756Z"
    }
   },
   "source": [
    "preprocessed = re.split(r'([,.?_!\"()\\']|--|\\s)', raw_text)\n",
    "preprocessed = [item.strip() for item in preprocessed if item.strip()]\n",
    "\n",
    "all_tokens = sorted(list(set(preprocessed)))\n",
    "all_tokens.extend([\"<|endoftext|>\", \"<|unk|>\"])\n",
    "\n",
    "vocab = {token:integer for integer,token in enumerate(all_tokens)}"
   ],
   "outputs": [],
   "execution_count": 24
  },
  {
   "metadata": {
    "ExecuteTime": {
     "end_time": "2024-12-21T08:52:23.791793Z",
     "start_time": "2024-12-21T08:52:23.778826Z"
    }
   },
   "cell_type": "code",
   "source": "all_tokens.index('<|unk|>')",
   "id": "e5fc64cbff1205b0",
   "outputs": [
    {
     "data": {
      "text/plain": [
       "1160"
      ]
     },
     "execution_count": 31,
     "metadata": {},
     "output_type": "execute_result"
    }
   ],
   "execution_count": 31
  },
  {
   "cell_type": "code",
   "id": "57c3143b-e860-4d3b-a22a-de22b547a6a9",
   "metadata": {
    "ExecuteTime": {
     "end_time": "2024-12-21T08:52:31.386475Z",
     "start_time": "2024-12-21T08:52:31.373514Z"
    }
   },
   "source": [
    "len(vocab.items())"
   ],
   "outputs": [
    {
     "data": {
      "text/plain": [
       "1161"
      ]
     },
     "execution_count": 32,
     "metadata": {},
     "output_type": "execute_result"
    }
   ],
   "execution_count": 32
  },
  {
   "cell_type": "code",
   "execution_count": 20,
   "id": "50e51bb1-ae05-4aa8-a9ff-455b65ed1959",
   "metadata": {},
   "outputs": [
    {
     "name": "stdout",
     "output_type": "stream",
     "text": [
      "('younger', 1156)\n",
      "('your', 1157)\n",
      "('yourself', 1158)\n",
      "('<|endoftext|>', 1159)\n",
      "('<|unk|>', 1160)\n"
     ]
    }
   ],
   "source": [
    "for i, item in enumerate(list(vocab.items())[-5:]):\n",
    "    print(item)"
   ]
  },
  {
   "cell_type": "markdown",
   "id": "a1daa2b0-6e75-412b-ab53-1f6fb7b4d453",
   "metadata": {},
   "source": [
    "- 我们还需要相应调整分词器，以便它知道何时以及如何使用新的 `<unk>` 词元"
   ]
  },
  {
   "cell_type": "code",
   "execution_count": 21,
   "id": "948861c5-3f30-4712-a234-725f20d26f68",
   "metadata": {},
   "outputs": [],
   "source": [
    "class SimpleTokenizerV2:\n",
    "    def __init__(self, vocab):\n",
    "        self.str_to_int = vocab\n",
    "        self.int_to_str = { i:s for s,i in vocab.items()}\n",
    "    \n",
    "    def encode(self, text):\n",
    "        preprocessed = re.split(r'([,.?_!\"()\\']|--|\\s)', text)\n",
    "        preprocessed = [item.strip() for item in preprocessed if item.strip()]\n",
    "        preprocessed = [item if item in self.str_to_int \n",
    "                        else \"<|unk|>\" for item in preprocessed]\n",
    "\n",
    "        ids = [self.str_to_int[s] for s in preprocessed]\n",
    "        return ids\n",
    "        \n",
    "    def decode(self, ids):\n",
    "        text = \" \".join([self.int_to_str[i] for i in ids])\n",
    "        # 替换指定标点符号前的空格\n",
    "        text = re.sub(r'\\s+([,.?!\"()\\'])', r'\\1', text)\n",
    "        return text"
   ]
  },
  {
   "cell_type": "markdown",
   "id": "aa728dd1-9d35-4ac7-938f-d411d73083f6",
   "metadata": {},
   "source": [
    "让我们尝试使用修改后的分词器对文本进行分词："
   ]
  },
  {
   "cell_type": "code",
   "execution_count": 22,
   "id": "effcef79-e0a5-4f4a-a43a-31dd94b9250a",
   "metadata": {},
   "outputs": [
    {
     "name": "stdout",
     "output_type": "stream",
     "text": [
      "Hello, do you like tea? <|endoftext|> In the sunlit terraces of the palace.\n"
     ]
    }
   ],
   "source": [
    "tokenizer = SimpleTokenizerV2(vocab)\n",
    "\n",
    "text1 = \"Hello, do you like tea?\"\n",
    "text2 = \"In the sunlit terraces of the palace.\"\n",
    "\n",
    "text = \" <|endoftext|> \".join((text1, text2))\n",
    "\n",
    "print(text)"
   ]
  },
  {
   "cell_type": "code",
   "execution_count": 23,
   "id": "ddfe7346-398d-4bf8-99f1-5b071244ce95",
   "metadata": {},
   "outputs": [
    {
     "data": {
      "text/plain": [
       "[1160,\n",
       " 5,\n",
       " 362,\n",
       " 1155,\n",
       " 642,\n",
       " 1000,\n",
       " 10,\n",
       " 1159,\n",
       " 57,\n",
       " 1013,\n",
       " 981,\n",
       " 1009,\n",
       " 738,\n",
       " 1013,\n",
       " 1160,\n",
       " 7]"
      ]
     },
     "execution_count": 23,
     "metadata": {},
     "output_type": "execute_result"
    }
   ],
   "source": [
    "tokenizer.encode(text)"
   ]
  },
  {
   "cell_type": "code",
   "execution_count": 24,
   "id": "0c350ff6-2734-4e84-9ec7-d578baa4ae1b",
   "metadata": {},
   "outputs": [
    {
     "data": {
      "text/plain": [
       "'<|unk|>, do you like tea? <|endoftext|> In the sunlit terraces of the <|unk|>.'"
      ]
     },
     "execution_count": 24,
     "metadata": {},
     "output_type": "execute_result"
    }
   ],
   "source": [
    "tokenizer.decode(tokenizer.encode(text))"
   ]
  },
  {
   "cell_type": "markdown",
   "id": "5c4ba34b-170f-4e71-939b-77aabb776f14",
   "metadata": {},
   "source": [
    "## 2.5 BytePair encoding（字节对编码）"
   ]
  },
  {
   "cell_type": "markdown",
   "id": "2309494c-79cf-4a2d-bc28-a94d602f050e",
   "metadata": {},
   "source": [
    "- GPT-2 使用字节对编码（BPE）作为分词器\n",
    "- 它允许模型将不在其预定义词汇表中的单词分解为更小的子单词单元甚至单个字符，从而使其能够处理词汇表之外的单词\n",
    "- 例如，如果 GPT-2 的词汇表中没有 \"unfamiliarword \"这个词，它可能会根据训练有素的 BPE 合并结果，将其标记为[\"unfam\"、\"iliar\"、\"word\"]或其他子词\n",
    "- 原始 BPE 分词器可在此处找到：[https://github.com/openai/gpt-2/blob/master/src/encoder.py](https://github.com/openai/gpt-2/blob/master/src/encoder.py)\n",
    "- 在本章中，我们使用 OpenAI 的开源 [tiktoken](https://github.com/openai/tiktoken) 库中的 BPE 标记符号生成器，该库用 Rust 实现了其核心算法，以提高计算性能\n",
    "- 我在 [./bytepair_encoder](./bytepair_encoder)中创建了一个笔记本，并列比较了这两种实现方法（tiktoken 在样本文本上的速度大约快 5 倍）。"
   ]
  },
  {
   "cell_type": "code",
   "execution_count": 25,
   "id": "ede1d41f-934b-4bf4-8184-54394a257a94",
   "metadata": {},
   "outputs": [],
   "source": [
    "# pip install tiktoken"
   ]
  },
  {
   "cell_type": "code",
   "execution_count": 26,
   "id": "48967a77-7d17-42bf-9e92-fc619d63a59e",
   "metadata": {},
   "outputs": [
    {
     "name": "stdout",
     "output_type": "stream",
     "text": [
      "tiktoken version: 0.6.0\n"
     ]
    }
   ],
   "source": [
    "import importlib\n",
    "import tiktoken\n",
    "\n",
    "print(\"tiktoken version:\", importlib.metadata.version(\"tiktoken\"))"
   ]
  },
  {
   "cell_type": "code",
   "execution_count": 27,
   "id": "6ad3312f-a5f7-4efc-9d7d-8ea09d7b5128",
   "metadata": {},
   "outputs": [],
   "source": [
    "tokenizer = tiktoken.get_encoding(\"gpt2\")"
   ]
  },
  {
   "cell_type": "code",
   "execution_count": 31,
   "id": "5ff2cd85-7cfb-4325-b390-219938589428",
   "metadata": {},
   "outputs": [
    {
     "name": "stdout",
     "output_type": "stream",
     "text": [
      "[15496, 11, 466, 345, 588, 8887, 30, 220, 50256, 554, 262, 4252, 18250, 8812, 2114, 286, 617, 34680, 27271, 13]\n"
     ]
    }
   ],
   "source": [
    "text = \"Hello, do you like tea? <|endoftext|> In the sunlit terraces of someunknownPlace.\"\n",
    "\n",
    "integers = tokenizer.encode(text, allowed_special={\"<|endoftext|>\"})\n",
    "\n",
    "print(integers)"
   ]
  },
  {
   "cell_type": "code",
   "execution_count": 32,
   "id": "d26a48bb-f82e-41a8-a955-a1c9cf9d50ab",
   "metadata": {},
   "outputs": [
    {
     "name": "stdout",
     "output_type": "stream",
     "text": [
      "Hello, do you like tea? <|endoftext|> In the sunlit terraces of someunknownPlace.\n"
     ]
    }
   ],
   "source": [
    "strings = tokenizer.decode(integers)\n",
    "\n",
    "print(strings)"
   ]
  },
  {
   "cell_type": "markdown",
   "id": "f63d62ab-4b80-489c-8041-e4052fe29969",
   "metadata": {},
   "source": [
    "- 未知单词实验："
   ]
  },
  {
   "cell_type": "code",
   "execution_count": 34,
   "id": "ce25cf25-a2bb-44d2-bac1-cb566f433f98",
   "metadata": {},
   "outputs": [
    {
     "name": "stdout",
     "output_type": "stream",
     "text": [
      "[33901, 86, 343, 86, 220, 959]\n"
     ]
    }
   ],
   "source": [
    "integers = tokenizer.encode(\"Akwirw ier\")\n",
    "print(integers)"
   ]
  },
  {
   "cell_type": "code",
   "execution_count": 35,
   "id": "3e224f96-41d0-4074-ac6e-f7db2490f806",
   "metadata": {},
   "outputs": [
    {
     "name": "stdout",
     "output_type": "stream",
     "text": [
      "33901 -> Ak\n",
      "86 -> w\n",
      "343 -> ir\n",
      "86 -> w\n",
      "220 ->  \n",
      "959 -> ier\n"
     ]
    }
   ],
   "source": [
    "for i in integers:\n",
    "    print(f\"{i} -> {tokenizer.decode([i])}\")"
   ]
  },
  {
   "cell_type": "code",
   "execution_count": 36,
   "id": "766bcf29-64bf-47ca-9b65-4ae8e607d580",
   "metadata": {},
   "outputs": [
    {
     "name": "stdout",
     "output_type": "stream",
     "text": [
      "Akwirw ier\n"
     ]
    }
   ],
   "source": [
    "strings = tokenizer.decode(integers)\n",
    "print(strings)"
   ]
  },
  {
   "cell_type": "markdown",
   "id": "abbd7c0d-70f8-4386-a114-907e96c950b0",
   "metadata": {},
   "source": [
    "## 2.6 使用滑动窗口进行数据采样"
   ]
  },
  {
   "cell_type": "code",
   "execution_count": 37,
   "id": "848d5ade-fd1f-46c3-9e31-1426e315c71b",
   "metadata": {},
   "outputs": [
    {
     "name": "stdout",
     "output_type": "stream",
     "text": [
      "5145\n"
     ]
    }
   ],
   "source": [
    "with open(\"the-verdict.txt\", \"r\", encoding=\"utf-8\") as f:\n",
    "    raw_text = f.read()\n",
    "\n",
    "enc_text = tokenizer.encode(raw_text)\n",
    "print(len(enc_text))"
   ]
  },
  {
   "cell_type": "markdown",
   "id": "cebd0657-5543-43ca-8011-2ae6bd0a5810",
   "metadata": {},
   "source": [
    "- 对于每个文本块，我们需要输入和目标\n",
    "- 由于我们希望模型预测下一个单词，因此目标是向右移动一个位置的输入值"
   ]
  },
  {
   "cell_type": "code",
   "execution_count": 38,
   "id": "e84424a7-646d-45b6-99e3-80d15fb761f2",
   "metadata": {},
   "outputs": [],
   "source": [
    "enc_sample = enc_text[50:]"
   ]
  },
  {
   "cell_type": "code",
   "execution_count": 39,
   "id": "dfbff852-a92f-48c8-a46d-143a0f109f40",
   "metadata": {},
   "outputs": [
    {
     "name": "stdout",
     "output_type": "stream",
     "text": [
      "x: [290, 4920, 2241, 287]\n",
      "y:      [4920, 2241, 287, 257]\n"
     ]
    }
   ],
   "source": [
    "context_size = 4\n",
    "\n",
    "x = enc_sample[:context_size]\n",
    "y = enc_sample[1:context_size+1]\n",
    "\n",
    "print(f\"x: {x}\")\n",
    "print(f\"y:      {y}\")"
   ]
  },
  {
   "cell_type": "markdown",
   "id": "815014ef-62f7-4476-a6ad-66e20e42b7c3",
   "metadata": {},
   "source": [
    "- 逐一预测的结果如下："
   ]
  },
  {
   "cell_type": "code",
   "execution_count": 40,
   "id": "d97b031e-ed55-409d-95f2-aeb38c6fe366",
   "metadata": {},
   "outputs": [
    {
     "name": "stdout",
     "output_type": "stream",
     "text": [
      "[290] ----> 4920\n",
      "[290, 4920] ----> 2241\n",
      "[290, 4920, 2241] ----> 287\n",
      "[290, 4920, 2241, 287] ----> 257\n"
     ]
    }
   ],
   "source": [
    "for i in range(1, context_size+1):\n",
    "    context = enc_sample[:i]\n",
    "    desired = enc_sample[i]\n",
    "\n",
    "    print(context, \"---->\", desired)"
   ]
  },
  {
   "cell_type": "code",
   "execution_count": 41,
   "id": "f57bd746-dcbf-4433-8e24-ee213a8c34a1",
   "metadata": {},
   "outputs": [
    {
     "name": "stdout",
     "output_type": "stream",
     "text": [
      " and ---->  established\n",
      " and established ---->  himself\n",
      " and established himself ---->  in\n",
      " and established himself in ---->  a\n"
     ]
    }
   ],
   "source": [
    "for i in range(1, context_size+1):\n",
    "    context = enc_sample[:i]\n",
    "    desired = enc_sample[i]\n",
    "\n",
    "    print(tokenizer.decode(context), \"---->\", tokenizer.decode([desired]))"
   ]
  },
  {
   "cell_type": "markdown",
   "id": "210d2dd9-fc20-4927-8d3d-1466cf41aae1",
   "metadata": {},
   "source": [
    "- 我们将在下一章介绍注意力机制后再处理下一个单词的预测\n",
    "- 现在，我们实现了一个简单的数据加载器，它可以遍历输入数据集，并返回输入和目标值相移一的结果"
   ]
  },
  {
   "cell_type": "markdown",
   "id": "a1a1b47a-f646-49d1-bc70-fddf2c840796",
   "metadata": {},
   "source": [
    "- 安装并导入 PyTorch（安装提示见附录 A）"
   ]
  },
  {
   "cell_type": "code",
   "execution_count": 42,
   "id": "e1770134-e7f3-4725-a679-e04c3be48cac",
   "metadata": {},
   "outputs": [
    {
     "name": "stdout",
     "output_type": "stream",
     "text": [
      "PyTorch version: 2.2.1+cu121\n"
     ]
    }
   ],
   "source": [
    "import torch\n",
    "print(\"PyTorch version:\", torch.__version__)"
   ]
  },
  {
   "cell_type": "markdown",
   "id": "92ac652d-7b38-4843-9fbd-494cdc8ec12c",
   "metadata": {},
   "source": [
    "- 创建数据集和数据加载器，从输入的文本数据集中提取数据块"
   ]
  },
  {
   "cell_type": "code",
   "execution_count": 43,
   "id": "74b41073-4c9f-46e2-a1bd-d38e4122b375",
   "metadata": {},
   "outputs": [],
   "source": [
    "from torch.utils.data import Dataset, DataLoader\n",
    "\n",
    "\n",
    "class GPTDatasetV1(Dataset):\n",
    "    def __init__(self, txt, tokenizer, max_length, stride):\n",
    "        self.tokenizer = tokenizer\n",
    "        self.input_ids = []\n",
    "        self.target_ids = []\n",
    "\n",
    "        # 对全部文本进行分词\n",
    "        token_ids = tokenizer.encode(txt, allowed_special={'<|endoftext|>'})\n",
    "\n",
    "        # 使用滑动窗口将图书分块为最大长度的重叠序列\n",
    "        for i in range(0, len(token_ids) - max_length, stride):\n",
    "            input_chunk = token_ids[i:i + max_length]\n",
    "            target_chunk = token_ids[i + 1: i + max_length + 1]\n",
    "            self.input_ids.append(torch.tensor(input_chunk))\n",
    "            self.target_ids.append(torch.tensor(target_chunk))\n",
    "\n",
    "    def __len__(self):\n",
    "        return len(self.input_ids)\n",
    "\n",
    "    def __getitem__(self, idx):\n",
    "        return self.input_ids[idx], self.target_ids[idx]"
   ]
  },
  {
   "cell_type": "code",
   "execution_count": 44,
   "id": "5eb30ebe-97b3-43c5-9ff1-a97d621b3c4e",
   "metadata": {},
   "outputs": [],
   "source": [
    "def create_dataloader_v1(txt, batch_size=4, max_length=256, stride=128, shuffle=True, drop_last=True):\n",
    "\n",
    "    # 分词器初始化\n",
    "    tokenizer = tiktoken.get_encoding(\"gpt2\")\n",
    "\n",
    "    # 创建数据集\n",
    "    dataset = GPTDatasetV1(txt, tokenizer, max_length, stride)\n",
    "\n",
    "    # 创建加载器\n",
    "    dataloader = DataLoader(\n",
    "        dataset, batch_size=batch_size, shuffle=shuffle, drop_last=drop_last)\n",
    "\n",
    "    return dataloader"
   ]
  },
  {
   "cell_type": "markdown",
   "id": "42dd68ef-59f7-45ff-ba44-e311c899ddcd",
   "metadata": {},
   "source": [
    "- 让我们用批量大小为 1 的数据加载器来测试上下文大小为 4 的 LLM："
   ]
  },
  {
   "cell_type": "code",
   "execution_count": 45,
   "id": "df31d96c-6bfd-4564-a956-6192242d7579",
   "metadata": {},
   "outputs": [],
   "source": [
    "with open(\"the-verdict.txt\", \"r\", encoding=\"utf-8\") as f:\n",
    "    raw_text = f.read()"
   ]
  },
  {
   "cell_type": "code",
   "execution_count": 47,
   "id": "9226d00c-ad9a-4949-a6e4-9afccfc7214f",
   "metadata": {},
   "outputs": [
    {
     "name": "stdout",
     "output_type": "stream",
     "text": [
      "[tensor([[  40,  367, 2885, 1464]]), tensor([[ 367, 2885, 1464, 1807]])]\n"
     ]
    }
   ],
   "source": [
    "dataloader = create_dataloader_v1(raw_text, batch_size=1, max_length=4, stride=1, shuffle=False)\n",
    "\n",
    "data_iter = iter(dataloader)\n",
    "first_batch = next(data_iter)\n",
    "print(first_batch)"
   ]
  },
  {
   "cell_type": "code",
   "execution_count": 48,
   "id": "10deb4bc-4de1-4d20-921e-4b1c7a0e1a6d",
   "metadata": {},
   "outputs": [
    {
     "name": "stdout",
     "output_type": "stream",
     "text": [
      "[tensor([[ 367, 2885, 1464, 1807]]), tensor([[2885, 1464, 1807, 3619]])]\n"
     ]
    }
   ],
   "source": [
    "second_batch = next(data_iter)\n",
    "print(second_batch)"
   ]
  },
  {
   "cell_type": "markdown",
   "id": "b1ae6d45-f26e-4b83-9c7b-cff55ffa7d16",
   "metadata": {},
   "source": [
    "- 我们也可以创造批量的输出\n",
    "-  请注意，我们在这里增加了步长，以避免批次之间的重叠，因为更多的重叠可能会导致过拟合增加。"
   ]
  },
  {
   "cell_type": "code",
   "execution_count": 49,
   "id": "1916e7a6-f03d-4f09-91a6-d0bdbac5a58c",
   "metadata": {},
   "outputs": [
    {
     "name": "stdout",
     "output_type": "stream",
     "text": [
      "Inputs:\n",
      " tensor([[   40,   367,  2885,  1464],\n",
      "        [ 1807,  3619,   402,   271],\n",
      "        [10899,  2138,   257,  7026],\n",
      "        [15632,   438,  2016,   257],\n",
      "        [  922,  5891,  1576,   438],\n",
      "        [  568,   340,   373,   645],\n",
      "        [ 1049,  5975,   284,   502],\n",
      "        [  284,  3285,   326,    11]])\n",
      "\n",
      "Targets:\n",
      " tensor([[  367,  2885,  1464,  1807],\n",
      "        [ 3619,   402,   271, 10899],\n",
      "        [ 2138,   257,  7026, 15632],\n",
      "        [  438,  2016,   257,   922],\n",
      "        [ 5891,  1576,   438,   568],\n",
      "        [  340,   373,   645,  1049],\n",
      "        [ 5975,   284,   502,   284],\n",
      "        [ 3285,   326,    11,   287]])\n"
     ]
    }
   ],
   "source": [
    "dataloader = create_dataloader_v1(raw_text, batch_size=8, max_length=4, stride=4, shuffle=False)\n",
    "\n",
    "data_iter = iter(dataloader)\n",
    "inputs, targets = next(data_iter)\n",
    "print(\"Inputs:\\n\", inputs)\n",
    "print(\"\\nTargets:\\n\", targets)"
   ]
  },
  {
   "cell_type": "markdown",
   "id": "2cd2fcda-2fda-4aa8-8bc8-de1e496f9db1",
   "metadata": {},
   "source": [
    "## 2.7 创建词元嵌入"
   ]
  },
  {
   "cell_type": "markdown",
   "id": "1a301068-6ab2-44ff-a915-1ba11688274f",
   "metadata": {},
   "source": [
    " - 数据已经几乎准备好用于大型语言模型（LLM）了\n",
    "- 但最后，让我们使用嵌入层将这些词元嵌入到连续的向量表示中\n",
    "- 通常，这些嵌入层是大型语言模型本身的一部分，在模型训练期间会进行更新（训练）"
   ]
  },
  {
   "cell_type": "markdown",
   "id": "44e014ca-1fc5-4b90-b6fa-c2097bb92c0b",
   "metadata": {},
   "source": [
    " - 假设我们有以下三个输入示例，输入ID分别为5、1、3和2（在进行分词之后）："
   ]
  },
  {
   "cell_type": "code",
   "execution_count": 50,
   "id": "15a6304c-9474-4470-b85d-3991a49fa653",
   "metadata": {},
   "outputs": [],
   "source": [
    "input_ids = torch.tensor([5, 1, 3, 2])"
   ]
  },
  {
   "cell_type": "markdown",
   "id": "14da6344-2c71-4837-858d-dd120005ba05",
   "metadata": {},
   "source": [
    " - 为了简化问题，假设我们有一个很小的词汇表，只包含6个单词，我们想要创建大小为3的嵌入向量。"
   ]
  },
  {
   "cell_type": "code",
   "execution_count": 51,
   "id": "93cb2cee-9aa6-4bb8-8977-c65661d16eda",
   "metadata": {},
   "outputs": [],
   "source": [
    "vocab_size = 6\n",
    "output_dim = 3\n",
    "\n",
    "torch.manual_seed(123)\n",
    "embedding_layer = torch.nn.Embedding(vocab_size, output_dim)"
   ]
  },
  {
   "cell_type": "markdown",
   "id": "4ff241f6-78eb-4e4a-a55f-5b2b6196d5b0",
   "metadata": {},
   "source": [
    " - 这将导致一个6行3列的权重矩阵："
   ]
  },
  {
   "cell_type": "code",
   "execution_count": 52,
   "id": "a686eb61-e737-4351-8f1c-222913d47468",
   "metadata": {},
   "outputs": [
    {
     "name": "stdout",
     "output_type": "stream",
     "text": [
      "Parameter containing:\n",
      "tensor([[ 0.3374, -0.1778, -0.1690],\n",
      "        [ 0.9178,  1.5810,  1.3010],\n",
      "        [ 1.2753, -0.2010, -0.1606],\n",
      "        [-0.4015,  0.9666, -1.1481],\n",
      "        [-1.1589,  0.3255, -0.6315],\n",
      "        [-2.8400, -0.7849, -1.4096]], requires_grad=True)\n"
     ]
    }
   ],
   "source": [
    "print(embedding_layer.weight)"
   ]
  },
  {
   "cell_type": "markdown",
   "id": "26fcf4f5-0801-4eb4-bb90-acce87935ac7",
   "metadata": {},
   "source": [
    " - 对于那些熟悉独热编码（one-hot encoding）的人来说，上述的嵌入层方法本质上只是一种更高效的实现方式，它相当于在全连接层中先进行独热编码，然后进行矩阵乘法，这在补充代码[./embedding_vs_matmul](./embedding_vs_matmul)中有描述。\n",
    "- 因为嵌入层只是一种更高效的实现方式，它等同于独热编码和矩阵乘法的方法，所以它可以被视为一个可以通过反向传播进行优化的神经网络层。"
   ]
  },
  {
   "cell_type": "markdown",
   "id": "4b0d58c3-83c0-4205-aca2-9c48b19fd4a7",
   "metadata": {},
   "source": [
    " - 要将ID为3的标记转换为三维向量，我们执行以下操作："
   ]
  },
  {
   "cell_type": "code",
   "execution_count": 53,
   "id": "e43600ba-f287-4746-8ddf-d0f71a9023ca",
   "metadata": {},
   "outputs": [
    {
     "name": "stdout",
     "output_type": "stream",
     "text": [
      "tensor([[-0.4015,  0.9666, -1.1481]], grad_fn=<EmbeddingBackward0>)\n"
     ]
    }
   ],
   "source": [
    "print(embedding_layer(torch.tensor([3])))"
   ]
  },
  {
   "cell_type": "markdown",
   "id": "a7bbf625-4f36-491d-87b4-3969efb784b0",
   "metadata": {},
   "source": [
    " - 请注意，上述内容是`embedding_layer`权重矩阵的第四行。\n",
    "- 要嵌入上述所有三个`input_ids`的值，我们执行以下操作："
   ]
  },
  {
   "cell_type": "code",
   "execution_count": 54,
   "id": "50280ead-0363-44c8-8c35-bb885d92c8b7",
   "metadata": {},
   "outputs": [
    {
     "name": "stdout",
     "output_type": "stream",
     "text": [
      "tensor([[-2.8400, -0.7849, -1.4096],\n",
      "        [ 0.9178,  1.5810,  1.3010],\n",
      "        [-0.4015,  0.9666, -1.1481],\n",
      "        [ 1.2753, -0.2010, -0.1606]], grad_fn=<EmbeddingBackward0>)\n"
     ]
    }
   ],
   "source": [
    "print(embedding_layer(input_ids))"
   ]
  },
  {
   "cell_type": "markdown",
   "id": "c393d270-b950-4bc8-99ea-97d74f2ea0f6",
   "metadata": {},
   "source": [
    "## 2.8 单词位置编码"
   ]
  },
  {
   "cell_type": "markdown",
   "id": "7f187f87-c1f8-4c2e-8050-350bbb972f55",
   "metadata": {},
   "source": [
    "- BytePair编码器有一个词汇量大小为50,257的词典\n",
    "- 假设我们想要将输入的词元编码成256维的向量表示："
   ]
  },
  {
   "cell_type": "code",
   "execution_count": 55,
   "id": "0b9e344d-03a6-4f2c-b723-67b6a20c5041",
   "metadata": {},
   "outputs": [],
   "source": [
    "vocab_size = 50257\n",
    "output_dim = 256\n",
    "\n",
    "token_embedding_layer = torch.nn.Embedding(vocab_size, output_dim)"
   ]
  },
  {
   "cell_type": "markdown",
   "id": "a2654722-24e4-4b0d-a43c-436a461eb70b",
   "metadata": {},
   "source": [
    " - 如果我们从数据加载器中采样数据，我们将每个批次中的词元嵌入到一个256维的向量中。\n",
    "- 如果我们的批次大小为8，每个批次有4个token，这将导致一个8 x 4 x 256的张量。"
   ]
  },
  {
   "cell_type": "code",
   "execution_count": 56,
   "id": "ad56a263-3d2e-4d91-98bf-d0b68d3c7fc3",
   "metadata": {},
   "outputs": [],
   "source": [
    "max_length = 4\n",
    "dataloader = create_dataloader_v1(raw_text, batch_size=8, max_length=max_length, stride=5, shuffle=False)\n",
    "data_iter = iter(dataloader)\n",
    "inputs, targets = next(data_iter)"
   ]
  },
  {
   "cell_type": "code",
   "execution_count": 57,
   "id": "84416b60-3707-4370-bcbc-da0b62f2b64d",
   "metadata": {},
   "outputs": [
    {
     "name": "stdout",
     "output_type": "stream",
     "text": [
      "Token IDs:\n",
      " tensor([[   40,   367,  2885,  1464],\n",
      "        [ 3619,   402,   271, 10899],\n",
      "        [  257,  7026, 15632,   438],\n",
      "        [  257,   922,  5891,  1576],\n",
      "        [  568,   340,   373,   645],\n",
      "        [ 5975,   284,   502,   284],\n",
      "        [  326,    11,   287,   262],\n",
      "        [  286,   465, 13476,    11]])\n",
      "\n",
      "Inputs shape:\n",
      " torch.Size([8, 4])\n"
     ]
    }
   ],
   "source": [
    "print(\"Token IDs:\\n\", inputs)\n",
    "print(\"\\nInputs shape:\\n\", inputs.shape)"
   ]
  },
  {
   "cell_type": "code",
   "execution_count": 58,
   "id": "7766ec38-30d0-4128-8c31-f49f063c43d1",
   "metadata": {},
   "outputs": [
    {
     "name": "stdout",
     "output_type": "stream",
     "text": [
      "torch.Size([8, 4, 256])\n"
     ]
    }
   ],
   "source": [
    "token_embeddings = token_embedding_layer(inputs)\n",
    "print(token_embeddings.shape)"
   ]
  },
  {
   "cell_type": "markdown",
   "id": "fe2ae164-6f19-4e32-b9e5-76950fcf1c9f",
   "metadata": {},
   "source": [
    " - GPT-2 使用绝对位置嵌入，所以我们只需创建另一个嵌入层："
   ]
  },
  {
   "cell_type": "code",
   "execution_count": 61,
   "id": "cc048e20-7ac8-417e-81f5-8fe6f9a4fe07",
   "metadata": {},
   "outputs": [],
   "source": [
    "block_size = max_length\n",
    "pos_embedding_layer = torch.nn.Embedding(block_size, output_dim)"
   ]
  },
  {
   "cell_type": "code",
   "execution_count": 62,
   "id": "c369a1e7-d566-4b53-b398-d6adafb44105",
   "metadata": {},
   "outputs": [
    {
     "name": "stdout",
     "output_type": "stream",
     "text": [
      "torch.Size([4, 256])\n"
     ]
    }
   ],
   "source": [
    "pos_embeddings = pos_embedding_layer(torch.arange(max_length))\n",
    "print(pos_embeddings.shape)"
   ]
  },
  {
   "cell_type": "markdown",
   "id": "870e9d9f-2935-461a-9518-6d1386b976d6",
   "metadata": {},
   "source": [
    " - 为了创建在大型语言模型（LLM）中使用的输入嵌入，我们只需将词元嵌入和位置嵌入相加："
   ]
  },
  {
   "cell_type": "code",
   "execution_count": 63,
   "id": "b22fab89-526e-43c8-9035-5b7018e34288",
   "metadata": {},
   "outputs": [
    {
     "name": "stdout",
     "output_type": "stream",
     "text": [
      "torch.Size([8, 4, 256])\n"
     ]
    }
   ],
   "source": [
    "input_embeddings = token_embeddings + pos_embeddings\n",
    "print(input_embeddings.shape)"
   ]
  },
  {
   "cell_type": "markdown",
   "id": "63230f2e-258f-4497-9e2e-8deee4530364",
   "metadata": {},
   "source": [
    "# 总结和要点"
   ]
  },
  {
   "cell_type": "markdown",
   "id": "8b3293a6-45a5-47cd-aa00-b23e3ca0a73f",
   "metadata": {},
   "source": [
    "**请查看[./dataloader.ipynb](./dataloader.ipynb)代码笔记本，这是我们在本章实现的数据加载器的简洁版本，我们将在接下来的章节中训练GPT模型时需要用到它。**\n",
    "\n",
    "**请查看[./exercise-solutions.ipynb](./exercise-solutions.ipynb)以获取练习题的解答。**"
   ]
  }
 ],
 "metadata": {
  "kernelspec": {
   "display_name": "Python 3.10.11",
   "language": "python",
   "name": "python310"
  },
  "language_info": {
   "codemirror_mode": {
    "name": "ipython",
    "version": 3
   },
   "file_extension": ".py",
   "mimetype": "text/x-python",
   "name": "python",
   "nbconvert_exporter": "python",
   "pygments_lexer": "ipython3",
   "version": "3.10.13"
  }
 },
 "nbformat": 4,
 "nbformat_minor": 5
}
