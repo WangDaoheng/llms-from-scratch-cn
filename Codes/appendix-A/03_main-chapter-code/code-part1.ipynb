{
 "cells": [
  {
   "cell_type": "markdown",
   "id": "ca7fc8a0-280c-4979-b0c7-fc3a99b3b785",
   "metadata": {},
   "source": [
    "# 附件A：PyTorch的介绍（第一部分）"
   ]
  },
  {
   "cell_type": "markdown",
   "id": "f5bf13d2-8fc2-483e-88cc-6b4310221e68",
   "metadata": {},
   "source": [
    "## A.1 什么是PyTorch"
   ]
  },
  {
   "cell_type": "code",
   "id": "96ee5660-5327-48e2-9104-a882b3b2afa4",
   "metadata": {
    "ExecuteTime": {
     "end_time": "2024-12-23T07:29:08.862960Z",
     "start_time": "2024-12-23T07:29:05.987992Z"
    }
   },
   "source": [
    "import torch\n",
    "# 显示PyTorch的版本\n",
    "print(torch.__version__)"
   ],
   "outputs": [
    {
     "name": "stdout",
     "output_type": "stream",
     "text": [
      "2.5.1+cu124\n"
     ]
    }
   ],
   "execution_count": 1
  },
  {
   "cell_type": "code",
   "id": "f73ad4e4-7ec6-4467-a9e9-0cdf6d195264",
   "metadata": {
    "ExecuteTime": {
     "end_time": "2024-12-23T07:29:15.320418Z",
     "start_time": "2024-12-23T07:29:14.512957Z"
    }
   },
   "source": [
    "# 显示PyTorch是否是GPU版本，False表示CPU版本，True表示GPU版本\n",
    "print(torch.cuda.is_available())"
   ],
   "outputs": [
    {
     "name": "stdout",
     "output_type": "stream",
     "text": [
      "True\n"
     ]
    }
   ],
   "execution_count": 2
  },
  {
   "cell_type": "markdown",
   "id": "2100cf2e-7459-4ab3-92a8-43e86ab35a9b",
   "metadata": {},
   "source": [
    "## A.2 向量"
   ]
  },
  {
   "cell_type": "markdown",
   "id": "26d7f785-e048-42bc-9182-a556af6bb7f4",
   "metadata": {},
   "source": [
    "### A.2.1 标量、向量、矩阵和张量\n"
   ]
  },
  {
   "cell_type": "code",
   "id": "a3a464d6-cec8-4363-87bd-ea4f900baced",
   "metadata": {
    "ExecuteTime": {
     "end_time": "2024-12-23T07:29:33.713921Z",
     "start_time": "2024-12-23T07:29:33.672034Z"
    }
   },
   "source": [
    "import torch\n",
    "import numpy as np\n",
    "\n",
    "# 用Python整数创建一个0维张量\n",
    "tensor0d = torch.tensor(1)\n",
    "\n",
    "# 用Python列表创建一个1维张量（向量）\n",
    "tensor1d = torch.tensor([1, 2, 3])\n",
    "\n",
    "# 用Python列表创建一个2维张量（向量）\n",
    "tensor2d = torch.tensor([[1, 2], [3, 4]])\n",
    "\n",
    "# 用嵌套的Python列表创建一个3维张量\n",
    "tensor3d_1 = torch.tensor([[[1, 2], [3, 4]], [[5, 6], [7, 8]]])\n",
    "\n",
    "# 从NumPy数组创建一个3维张量\n",
    "ary3d = np.array([[[1, 2], [3, 4]], [[5, 6], [7, 8]]])\n",
    "tensor3d_2 = torch.tensor(ary3d)  # 复制NumPy数组\n",
    "tensor3d_3 = torch.from_numpy(ary3d)  # 与NumPy数组共享内存"
   ],
   "outputs": [],
   "execution_count": 3
  },
  {
   "cell_type": "code",
   "id": "dbe14c47-499a-4d48-b354-a0e6fd957872",
   "metadata": {
    "ExecuteTime": {
     "end_time": "2024-12-23T07:38:14.885452Z",
     "start_time": "2024-12-23T07:38:14.864504Z"
    }
   },
   "source": [
    "ary3d[0, 0, 0] = 999\n",
    "print(tensor3d_2) # 保持不变"
   ],
   "outputs": [
    {
     "name": "stdout",
     "output_type": "stream",
     "text": [
      "tensor([[[1, 2],\n",
      "         [3, 4]],\n",
      "\n",
      "        [[5, 6],\n",
      "         [7, 8]]], dtype=torch.int32)\n"
     ]
    }
   ],
   "execution_count": 4
  },
  {
   "cell_type": "code",
   "id": "e3e4c23a-cdba-46f5-a2dc-5fb32bf9117b",
   "metadata": {
    "ExecuteTime": {
     "end_time": "2024-12-23T07:38:16.234917Z",
     "start_time": "2024-12-23T07:38:16.216964Z"
    }
   },
   "source": [
    "print(tensor3d_3) # 由于内存共享需要改变"
   ],
   "outputs": [
    {
     "name": "stdout",
     "output_type": "stream",
     "text": [
      "tensor([[[999,   2],\n",
      "         [  3,   4]],\n",
      "\n",
      "        [[  5,   6],\n",
      "         [  7,   8]]], dtype=torch.int32)\n"
     ]
    }
   ],
   "execution_count": 5
  },
  {
   "cell_type": "markdown",
   "id": "63dec48d-2b60-41a2-ac06-fef7e718605a",
   "metadata": {},
   "source": [
    "### A.2.2 向量的数据类型"
   ]
  },
  {
   "cell_type": "code",
   "id": "3f48c014-e1a2-4a53-b5c5-125812d4034c",
   "metadata": {
    "ExecuteTime": {
     "end_time": "2024-12-23T07:38:20.292124Z",
     "start_time": "2024-12-23T07:38:20.280109Z"
    }
   },
   "source": [
    "tensor1d = torch.tensor([1, 2, 3])\n",
    "print(tensor1d.dtype)"
   ],
   "outputs": [
    {
     "name": "stdout",
     "output_type": "stream",
     "text": [
      "torch.int64\n"
     ]
    }
   ],
   "execution_count": 6
  },
  {
   "cell_type": "code",
   "id": "5429a086-9de2-4ac7-9f14-d087a7507394",
   "metadata": {
    "ExecuteTime": {
     "end_time": "2024-12-23T07:38:22.755518Z",
     "start_time": "2024-12-23T07:38:22.738563Z"
    }
   },
   "source": [
    "floatvec = torch.tensor([1.0, 2.0, 3.0])\n",
    "print(floatvec.dtype)"
   ],
   "outputs": [
    {
     "name": "stdout",
     "output_type": "stream",
     "text": [
      "torch.float32\n"
     ]
    }
   ],
   "execution_count": 7
  },
  {
   "cell_type": "code",
   "id": "a9a438d1-49bb-481c-8442-7cc2bb3dd4af",
   "metadata": {
    "ExecuteTime": {
     "end_time": "2024-12-23T07:38:23.928096Z",
     "start_time": "2024-12-23T07:38:23.909147Z"
    }
   },
   "source": [
    "floatvec = tensor1d.to(torch.float32)\n",
    "print(floatvec.dtype)"
   ],
   "outputs": [
    {
     "name": "stdout",
     "output_type": "stream",
     "text": [
      "torch.float32\n"
     ]
    }
   ],
   "execution_count": 8
  },
  {
   "cell_type": "markdown",
   "id": "2020deb5-aa02-4524-b311-c010f4ad27ff",
   "metadata": {},
   "source": [
    "### A.2.3 PyTorch中常见的张量操作"
   ]
  },
  {
   "cell_type": "code",
   "id": "c02095f2-8a48-4953-b3c9-5313d4362ce7",
   "metadata": {
    "ExecuteTime": {
     "end_time": "2024-12-23T07:38:27.905659Z",
     "start_time": "2024-12-23T07:38:27.892695Z"
    }
   },
   "source": [
    "tensor2d = torch.tensor([[1, 2, 3], [4, 5, 6]])\n",
    "tensor2d"
   ],
   "outputs": [
    {
     "data": {
      "text/plain": [
       "tensor([[1, 2, 3],\n",
       "        [4, 5, 6]])"
      ]
     },
     "execution_count": 9,
     "metadata": {},
     "output_type": "execute_result"
    }
   ],
   "execution_count": 9
  },
  {
   "cell_type": "code",
   "id": "f33e1d45-5b2c-4afe-b4b2-66ac4099fd1a",
   "metadata": {
    "ExecuteTime": {
     "end_time": "2024-12-23T07:38:31.046296Z",
     "start_time": "2024-12-23T07:38:31.027346Z"
    }
   },
   "source": [
    "tensor2d.shape # 张量形状"
   ],
   "outputs": [
    {
     "data": {
      "text/plain": [
       "torch.Size([2, 3])"
      ]
     },
     "execution_count": 10,
     "metadata": {},
     "output_type": "execute_result"
    }
   ],
   "execution_count": 10
  },
  {
   "cell_type": "code",
   "id": "f3a4129d-f870-4e03-9c32-cd8521cb83fe",
   "metadata": {
    "ExecuteTime": {
     "end_time": "2024-12-23T07:38:32.847919Z",
     "start_time": "2024-12-23T07:38:32.826976Z"
    }
   },
   "source": [
    "tensor2d.reshape(3, 2) # 修改形状"
   ],
   "outputs": [
    {
     "data": {
      "text/plain": [
       "tensor([[1, 2],\n",
       "        [3, 4],\n",
       "        [5, 6]])"
      ]
     },
     "execution_count": 11,
     "metadata": {},
     "output_type": "execute_result"
    }
   ],
   "execution_count": 11
  },
  {
   "cell_type": "code",
   "id": "589ac0a7-adc7-41f3-b721-155f580e9369",
   "metadata": {
    "ExecuteTime": {
     "end_time": "2024-12-23T07:38:34.394947Z",
     "start_time": "2024-12-23T07:38:34.380952Z"
    }
   },
   "source": [
    "tensor2d.view(3, 2) # 查看张量"
   ],
   "outputs": [
    {
     "data": {
      "text/plain": [
       "tensor([[1, 2],\n",
       "        [3, 4],\n",
       "        [5, 6]])"
      ]
     },
     "execution_count": 12,
     "metadata": {},
     "output_type": "execute_result"
    }
   ],
   "execution_count": 12
  },
  {
   "cell_type": "code",
   "id": "344e307f-ba5d-4f9a-a791-2c75a3d1417e",
   "metadata": {
    "ExecuteTime": {
     "end_time": "2024-12-23T07:38:36.924289Z",
     "start_time": "2024-12-23T07:38:36.906338Z"
    }
   },
   "source": [
    "tensor2d.T # 转置张量"
   ],
   "outputs": [
    {
     "data": {
      "text/plain": [
       "tensor([[1, 4],\n",
       "        [2, 5],\n",
       "        [3, 6]])"
      ]
     },
     "execution_count": 13,
     "metadata": {},
     "output_type": "execute_result"
    }
   ],
   "execution_count": 13
  },
  {
   "cell_type": "code",
   "id": "19a75030-6a41-4ca8-9aae-c507ae79225c",
   "metadata": {
    "ExecuteTime": {
     "end_time": "2024-12-23T07:38:41.784125Z",
     "start_time": "2024-12-23T07:38:41.770163Z"
    }
   },
   "source": [
    "tensor2d.matmul(tensor2d.T) # 张量乘法：tensor2d与其转置相乘"
   ],
   "outputs": [
    {
     "data": {
      "text/plain": [
       "tensor([[14, 32],\n",
       "        [32, 77]])"
      ]
     },
     "execution_count": 14,
     "metadata": {},
     "output_type": "execute_result"
    }
   ],
   "execution_count": 14
  },
  {
   "cell_type": "code",
   "id": "e7c950bc-d640-4203-b210-3ac8932fe4d4",
   "metadata": {
    "ExecuteTime": {
     "end_time": "2024-12-23T07:38:42.862698Z",
     "start_time": "2024-12-23T07:38:42.846743Z"
    }
   },
   "source": [
    "tensor2d @ tensor2d.T # 张量乘法的另一种实现方式：tensor2d与其转置相乘"
   ],
   "outputs": [
    {
     "data": {
      "text/plain": [
       "tensor([[14, 32],\n",
       "        [32, 77]])"
      ]
     },
     "execution_count": 15,
     "metadata": {},
     "output_type": "execute_result"
    }
   ],
   "execution_count": 15
  },
  {
   "cell_type": "markdown",
   "id": "4c15bdeb-78e2-4870-8a4f-a9f591666f38",
   "metadata": {},
   "source": [
    "## A.3 把模型作为计算图"
   ]
  },
  {
   "cell_type": "code",
   "id": "22af61e9-0443-4705-94d7-24c21add09c7",
   "metadata": {
    "ExecuteTime": {
     "end_time": "2024-12-23T07:38:59.573335Z",
     "start_time": "2024-12-23T07:38:59.550399Z"
    }
   },
   "source": [
    "import torch.nn.functional as F\n",
    "\n",
    "y = torch.tensor([1.0])  # 真实样本\n",
    "x1 = torch.tensor([1.1]) # 输入特征\n",
    "w1 = torch.tensor([2.2]) # 权重变量\n",
    "b = torch.tensor([0.0])  # 偏置单元\n",
    "\n",
    "z = x1 * w1 + b          # 网络输入\n",
    "a = torch.sigmoid(z)     # 激活函数 & 输出\n",
    "\n",
    "loss = F.binary_cross_entropy(a, y)\n",
    "print(loss)"
   ],
   "outputs": [
    {
     "name": "stdout",
     "output_type": "stream",
     "text": [
      "tensor(0.0852)\n"
     ]
    }
   ],
   "execution_count": 16
  },
  {
   "cell_type": "markdown",
   "id": "f9424f26-2bac-47e7-b834-92ece802247c",
   "metadata": {},
   "source": [
    "## A.4 自动求导"
   ]
  },
  {
   "cell_type": "code",
   "id": "ebf5cef7-48d6-4d2a-8ab0-0fb10bdd7d1a",
   "metadata": {
    "ExecuteTime": {
     "end_time": "2024-12-23T07:39:25.255134Z",
     "start_time": "2024-12-23T07:39:25.234226Z"
    }
   },
   "source": [
    "import torch.nn.functional as F\n",
    "from torch.autograd import grad\n",
    "\n",
    "y = torch.tensor([1.0])\n",
    "x1 = torch.tensor([1.1])\n",
    "w1 = torch.tensor([2.2], requires_grad=True)\n",
    "b = torch.tensor([0.0], requires_grad=True)\n",
    "\n",
    "z = x1 * w1 + b \n",
    "a = torch.sigmoid(z)\n",
    "\n",
    "loss = F.binary_cross_entropy(a, y)\n",
    "\n",
    "grad_L_w1 = grad(loss, w1, retain_graph=True)\n",
    "grad_L_b = grad(loss, b, retain_graph=True)\n",
    "\n",
    "print(grad_L_w1)\n",
    "print(grad_L_b)"
   ],
   "outputs": [
    {
     "name": "stdout",
     "output_type": "stream",
     "text": [
      "(tensor([-0.0898]),)\n",
      "(tensor([-0.0817]),)\n"
     ]
    }
   ],
   "execution_count": 17
  },
  {
   "cell_type": "code",
   "id": "93c5875d-f6b2-492c-b5ef-7e132f93a4e0",
   "metadata": {
    "ExecuteTime": {
     "end_time": "2024-12-23T07:39:32.113140Z",
     "start_time": "2024-12-23T07:39:32.099141Z"
    }
   },
   "source": [
    "loss.backward()# 反向传播\n",
    "\n",
    "print(w1.grad)\n",
    "print(b.grad)"
   ],
   "outputs": [
    {
     "name": "stdout",
     "output_type": "stream",
     "text": [
      "tensor([-0.0898])\n",
      "tensor([-0.0817])\n"
     ]
    }
   ],
   "execution_count": 18
  },
  {
   "cell_type": "markdown",
   "id": "f53bdd7d-44e6-40ab-8a5a-4eef74ef35dc",
   "metadata": {},
   "source": [
    "## A.5 多层神经网络的实现"
   ]
  },
  {
   "cell_type": "code",
   "id": "84b749e1-7768-4cfe-94d6-a08c7feff4a1",
   "metadata": {
    "ExecuteTime": {
     "end_time": "2024-12-23T07:39:37.450464Z",
     "start_time": "2024-12-23T07:39:37.439495Z"
    }
   },
   "source": [
    "class NeuralNetwork(torch.nn.Module):\n",
    "    def __init__(self, num_inputs, num_outputs):\n",
    "        super().__init__()\n",
    "\n",
    "        self.layers = torch.nn.Sequential(\n",
    "                \n",
    "            # 第一个隐藏层\n",
    "            torch.nn.Linear(num_inputs, 30),\n",
    "            torch.nn.ReLU(),\n",
    "\n",
    "            # 第二个隐藏层\n",
    "            torch.nn.Linear(30, 20),\n",
    "            torch.nn.ReLU(),\n",
    "\n",
    "            # 输出层\n",
    "            torch.nn.Linear(20, num_outputs),\n",
    "        )\n",
    "\n",
    "    def forward(self, x):\n",
    "        logits = self.layers(x)\n",
    "        return logits"
   ],
   "outputs": [],
   "execution_count": 19
  },
  {
   "cell_type": "code",
   "id": "c5b59e2e-1930-456d-93b9-f69263e3adbe",
   "metadata": {
    "ExecuteTime": {
     "end_time": "2024-12-23T07:39:38.950882Z",
     "start_time": "2024-12-23T07:39:38.939910Z"
    }
   },
   "source": [
    "model = NeuralNetwork(50, 3)"
   ],
   "outputs": [],
   "execution_count": 20
  },
  {
   "cell_type": "code",
   "id": "39d02a21-33e7-4879-8fd2-d6309faf2f8d",
   "metadata": {
    "ExecuteTime": {
     "end_time": "2024-12-23T07:39:39.886378Z",
     "start_time": "2024-12-23T07:39:39.878400Z"
    }
   },
   "source": [
    "print(model)"
   ],
   "outputs": [
    {
     "name": "stdout",
     "output_type": "stream",
     "text": [
      "NeuralNetwork(\n",
      "  (layers): Sequential(\n",
      "    (0): Linear(in_features=50, out_features=30, bias=True)\n",
      "    (1): ReLU()\n",
      "    (2): Linear(in_features=30, out_features=20, bias=True)\n",
      "    (3): ReLU()\n",
      "    (4): Linear(in_features=20, out_features=3, bias=True)\n",
      "  )\n",
      ")\n"
     ]
    }
   ],
   "execution_count": 21
  },
  {
   "cell_type": "code",
   "id": "94535738-de02-4c2a-9b44-1cd186fa990a",
   "metadata": {
    "ExecuteTime": {
     "end_time": "2024-12-23T07:39:51.993349Z",
     "start_time": "2024-12-23T07:39:51.984375Z"
    }
   },
   "source": [
    "num_params = sum(p.numel() for p in model.parameters() if p.requires_grad)\n",
    "print(\"Total number of trainable model parameters:\", num_params)# 打印训练模型的参数"
   ],
   "outputs": [
    {
     "name": "stdout",
     "output_type": "stream",
     "text": [
      "Total number of trainable model parameters: 2213\n"
     ]
    }
   ],
   "execution_count": 22
  },
  {
   "cell_type": "code",
   "id": "2c394106-ad71-4ccb-a3c9-9b60af3fa748",
   "metadata": {
    "ExecuteTime": {
     "end_time": "2024-12-23T07:39:57.491827Z",
     "start_time": "2024-12-23T07:39:57.479826Z"
    }
   },
   "source": [
    "print(model.layers[0].weight) # 打印神经网络模型的第一层的权重"
   ],
   "outputs": [
    {
     "name": "stdout",
     "output_type": "stream",
     "text": [
      "Parameter containing:\n",
      "tensor([[ 0.1323,  0.0234, -0.0754,  ..., -0.0645, -0.1213, -0.1052],\n",
      "        [-0.1329,  0.0089, -0.1267,  ...,  0.1041, -0.0450, -0.0849],\n",
      "        [-0.1100, -0.1179, -0.0611,  ...,  0.1118, -0.0376, -0.1340],\n",
      "        ...,\n",
      "        [-0.1159,  0.0039,  0.0823,  ..., -0.0555,  0.1385, -0.0834],\n",
      "        [ 0.0573,  0.0597, -0.1250,  ..., -0.0826, -0.0943,  0.1195],\n",
      "        [ 0.1051,  0.0239, -0.0670,  ..., -0.0830, -0.1359, -0.0419]],\n",
      "       requires_grad=True)\n"
     ]
    }
   ],
   "execution_count": 23
  },
  {
   "cell_type": "code",
   "id": "b201882b-9285-4db9-bb63-43afe6a2ff9e",
   "metadata": {
    "ExecuteTime": {
     "end_time": "2024-12-23T07:40:46.049357Z",
     "start_time": "2024-12-23T07:40:46.037390Z"
    }
   },
   "source": [
    "# 设置随机数种子，以确保可复现性\n",
    "torch.manual_seed(123)\n",
    "\n",
    "# 假设 NeuralNetwork 是一个神经网络类，且其构造函数接受两个参数，分别为输入特征的维度和输出特征的维度\n",
    "model = NeuralNetwork(50, 3)\n",
    "\n",
    "# 打印神经网络模型的第一层的权重\n",
    "print(model.layers[0].weight)"
   ],
   "outputs": [
    {
     "name": "stdout",
     "output_type": "stream",
     "text": [
      "Parameter containing:\n",
      "tensor([[-0.0577,  0.0047, -0.0702,  ...,  0.0222,  0.1260,  0.0865],\n",
      "        [ 0.0502,  0.0307,  0.0333,  ...,  0.0951,  0.1134, -0.0297],\n",
      "        [ 0.1077, -0.1108,  0.0122,  ...,  0.0108, -0.1049, -0.1063],\n",
      "        ...,\n",
      "        [-0.0787,  0.1259,  0.0803,  ...,  0.1218,  0.1303, -0.1351],\n",
      "        [ 0.1359,  0.0175, -0.0673,  ...,  0.0674,  0.0676,  0.1058],\n",
      "        [ 0.0790,  0.1343, -0.0293,  ...,  0.0344, -0.0971, -0.0509]],\n",
      "       requires_grad=True)\n"
     ]
    }
   ],
   "execution_count": 24
  },
  {
   "cell_type": "code",
   "id": "1da9a35e-44f3-460c-90fe-304519736fd6",
   "metadata": {
    "ExecuteTime": {
     "end_time": "2024-12-23T07:40:54.809092Z",
     "start_time": "2024-12-23T07:40:54.792091Z"
    }
   },
   "source": [
    "# 打印神经网络模型的第一层权重的形状\n",
    "print(model.layers[0].weight.shape)"
   ],
   "outputs": [
    {
     "name": "stdout",
     "output_type": "stream",
     "text": [
      "torch.Size([30, 50])\n"
     ]
    }
   ],
   "execution_count": 25
  },
  {
   "cell_type": "code",
   "id": "57eadbae-90fe-43a3-a33f-c23a095ba42a",
   "metadata": {
    "ExecuteTime": {
     "end_time": "2024-12-23T07:41:27.550302Z",
     "start_time": "2024-12-23T07:41:27.530357Z"
    }
   },
   "source": [
    "# 设置随机数种子，以确保可复现性\n",
    "torch.manual_seed(123)\n",
    "\n",
    "# 模型输入特征的维度为 50\n",
    "X = torch.rand((1, 50))\n",
    "\n",
    "# 使用模型进行前向传播计算输出\n",
    "out = model(X)\n",
    "\n",
    "# 打印输出结果\n",
    "print(out)"
   ],
   "outputs": [
    {
     "name": "stdout",
     "output_type": "stream",
     "text": [
      "tensor([[-0.1262,  0.1080, -0.1792]], grad_fn=<AddmmBackward0>)\n"
     ]
    }
   ],
   "execution_count": 26
  },
  {
   "metadata": {
    "ExecuteTime": {
     "end_time": "2024-12-23T07:41:51.933085Z",
     "start_time": "2024-12-23T07:41:51.916125Z"
    }
   },
   "cell_type": "code",
   "source": "torch.rand((1,50)).shape",
   "id": "722c4238d966a426",
   "outputs": [
    {
     "data": {
      "text/plain": [
       "torch.Size([1, 50])"
      ]
     },
     "execution_count": 28,
     "metadata": {},
     "output_type": "execute_result"
    }
   ],
   "execution_count": 28
  },
  {
   "cell_type": "code",
   "id": "48d720cb-ef73-4b7b-92e0-8198a072defd",
   "metadata": {
    "ExecuteTime": {
     "end_time": "2024-12-23T07:42:08.566244Z",
     "start_time": "2024-12-23T07:42:08.559262Z"
    }
   },
   "source": [
    "# 使用 torch.no_grad() 上下文管理器，以便在推断时不计算梯度\n",
    "with torch.no_grad():\n",
    "    out = model(X)\n",
    "print(out)"
   ],
   "outputs": [
    {
     "name": "stdout",
     "output_type": "stream",
     "text": [
      "tensor([[-0.1262,  0.1080, -0.1792]])\n"
     ]
    }
   ],
   "execution_count": 29
  },
  {
   "cell_type": "code",
   "id": "10df3640-83c3-4061-a74d-08f07a5cc6ac",
   "metadata": {
    "ExecuteTime": {
     "end_time": "2024-12-23T07:42:23.915020Z",
     "start_time": "2024-12-23T07:42:23.892083Z"
    }
   },
   "source": [
    "with torch.no_grad():\n",
    "    out = torch.softmax(model(X), dim=1)\n",
    "print(out)"
   ],
   "outputs": [
    {
     "name": "stdout",
     "output_type": "stream",
     "text": [
      "tensor([[0.3113, 0.3934, 0.2952]])\n"
     ]
    }
   ],
   "execution_count": 30
  },
  {
   "cell_type": "markdown",
   "id": "19858180-0f26-43a8-b2c3-7ed40abf9f85",
   "metadata": {},
   "source": [
    "## A.6 建立高效的数据加载器"
   ]
  },
  {
   "cell_type": "code",
   "id": "b9dc2745-8be8-4344-80ef-325f02cda7b7",
   "metadata": {
    "ExecuteTime": {
     "end_time": "2024-12-23T07:42:31.794903Z",
     "start_time": "2024-12-23T07:42:31.776915Z"
    }
   },
   "source": [
    "# 定义输入特征张量 X_train\n",
    "X_train = torch.tensor([\n",
    "    [-1.2, 3.1],\n",
    "    [-0.9, 2.9],\n",
    "    [-0.5, 2.6],\n",
    "    [2.3, -1.1],\n",
    "    [2.7, -1.5]\n",
    "])\n",
    "\n",
    "# 定义对应的标签张量 y_train\n",
    "y_train = torch.tensor([0, 0, 0, 1, 1])"
   ],
   "outputs": [],
   "execution_count": 31
  },
  {
   "cell_type": "code",
   "id": "88283948-5fca-461a-98a1-788b6be191d5",
   "metadata": {
    "ExecuteTime": {
     "end_time": "2024-12-23T07:42:35.858639Z",
     "start_time": "2024-12-23T07:42:35.845674Z"
    }
   },
   "source": [
    "X_test = torch.tensor([\n",
    "    [-0.8, 2.8],\n",
    "    [2.6, -1.6],\n",
    "])\n",
    "\n",
    "y_test = torch.tensor([0, 1])"
   ],
   "outputs": [],
   "execution_count": 32
  },
  {
   "cell_type": "code",
   "id": "edf323e2-1789-41a0-8e44-f3cab16e5f5d",
   "metadata": {
    "ExecuteTime": {
     "end_time": "2024-12-23T07:43:18.274810Z",
     "start_time": "2024-12-23T07:43:18.259817Z"
    }
   },
   "source": [
    "from torch.utils.data import Dataset\n",
    "\n",
    "\n",
    "class ToyDataset(Dataset):\n",
    "    # 初始化 ToyDataset 类\n",
    "    def __init__(self, X, y):\n",
    "        self.features = X\n",
    "        self.labels = y\n",
    "    #  获取指定索引的数据\n",
    "    def __getitem__(self, index):\n",
    "        one_x = self.features[index]\n",
    "        one_y = self.labels[index]        \n",
    "        return one_x, one_y\n",
    "    # 获取数据集的长度\n",
    "    def __len__(self):\n",
    "        return self.labels.shape[0]\n",
    "# 创建训练数据集和测试数据集实例\n",
    "train_ds = ToyDataset(X_train, y_train)\n",
    "test_ds = ToyDataset(X_test, y_test)"
   ],
   "outputs": [],
   "execution_count": 33
  },
  {
   "cell_type": "code",
   "id": "b7014705-1fdc-4f72-b892-d8db8bebc331",
   "metadata": {
    "ExecuteTime": {
     "end_time": "2024-12-23T07:43:28.079084Z",
     "start_time": "2024-12-23T07:43:28.068089Z"
    }
   },
   "source": [
    "len(train_ds)"
   ],
   "outputs": [
    {
     "data": {
      "text/plain": [
       "5"
      ]
     },
     "execution_count": 34,
     "metadata": {},
     "output_type": "execute_result"
    }
   ],
   "execution_count": 34
  },
  {
   "cell_type": "code",
   "id": "3ec6627a-4c3f-481a-b794-d2131be95eaf",
   "metadata": {
    "ExecuteTime": {
     "end_time": "2024-12-23T07:43:50.086093Z",
     "start_time": "2024-12-23T07:43:50.078114Z"
    }
   },
   "source": [
    "from torch.utils.data import DataLoader\n",
    "\n",
    "torch.manual_seed(123)\n",
    "\n",
    "# 创建训练数据加载器 train_loader\n",
    "# dataset 参数传入了您定义的 ToyDataset 类的实例 train_ds\n",
    "# batch_size 参数指定了每个批次包含的样本数量\n",
    "# shuffle 参数指定是否在每个 epoch 之前对数据进行洗牌\n",
    "# num_workers 参数指定用于数据加载的子进程数量\n",
    "train_loader = DataLoader(\n",
    "    dataset=train_ds,\n",
    "    batch_size=2,\n",
    "    shuffle=True,\n",
    "    num_workers=0\n",
    ")"
   ],
   "outputs": [],
   "execution_count": 35
  },
  {
   "cell_type": "code",
   "id": "8c9446de-5e4b-44fa-bf9a-a63e2661027e",
   "metadata": {
    "ExecuteTime": {
     "end_time": "2024-12-23T07:44:13.618113Z",
     "start_time": "2024-12-23T07:44:13.598165Z"
    }
   },
   "source": [
    "test_ds = ToyDataset(X_test, y_test)\n",
    "\n",
    "# 创建测试数据加载器 test_loader\n",
    "# dataset 参数传入了您定义的 ToyDataset 类的实例 test_ds\n",
    "# batch_size 参数指定了每个批次包含的样本数量\n",
    "# shuffle 参数指定是否在每个 epoch 之前对数据进行洗牌，这里设为 False 表示不洗牌\n",
    "# num_workers 参数指定用于数据加载的子进程数量\n",
    "test_loader = DataLoader(\n",
    "    dataset=test_ds,\n",
    "    batch_size=2,\n",
    "    shuffle=False,\n",
    "    num_workers=0\n",
    ")"
   ],
   "outputs": [],
   "execution_count": 36
  },
  {
   "cell_type": "code",
   "id": "99d4404c-9884-419f-979c-f659742d86ef",
   "metadata": {
    "ExecuteTime": {
     "end_time": "2024-12-23T07:45:19.544265Z",
     "start_time": "2024-12-23T07:45:19.526315Z"
    }
   },
   "source": [
    "# 迭代训练数据加载器 train_loader\n",
    "for idx, (x, y) in enumerate(train_loader):\n",
    "    # 打印每个批次的索引、输入特征和对应的标签\n",
    "    print(f\"Batch {idx+1}:\", x, y)"
   ],
   "outputs": [
    {
     "name": "stdout",
     "output_type": "stream",
     "text": [
      "Batch 1: tensor([[ 2.3000, -1.1000],\n",
      "        [-0.9000,  2.9000]]) tensor([1, 0])\n",
      "Batch 2: tensor([[-1.2000,  3.1000],\n",
      "        [-0.5000,  2.6000]]) tensor([0, 0])\n",
      "Batch 3: tensor([[ 2.7000, -1.5000]]) tensor([1])\n"
     ]
    }
   ],
   "execution_count": 37
  },
  {
   "cell_type": "code",
   "id": "9d003f7e-7a80-40bf-a7fb-7a0d7dbba9db",
   "metadata": {
    "ExecuteTime": {
     "end_time": "2024-12-23T07:45:31.940329Z",
     "start_time": "2024-12-23T07:45:31.934344Z"
    }
   },
   "source": [
    "train_loader = DataLoader(\n",
    "    dataset=train_ds,\n",
    "    batch_size=2,\n",
    "    shuffle=True,\n",
    "    num_workers=0,\n",
    "    drop_last=True\n",
    ")"
   ],
   "outputs": [],
   "execution_count": 38
  },
  {
   "cell_type": "code",
   "id": "4db4d7f4-82da-44a4-b94e-ee04665d9c3c",
   "metadata": {
    "ExecuteTime": {
     "end_time": "2024-12-23T07:45:33.531441Z",
     "start_time": "2024-12-23T07:45:33.516483Z"
    }
   },
   "source": [
    "for idx, (x, y) in enumerate(train_loader):\n",
    "    print(f\"Batch {idx+1}:\", x, y)"
   ],
   "outputs": [
    {
     "name": "stdout",
     "output_type": "stream",
     "text": [
      "Batch 1: tensor([[-1.2000,  3.1000],\n",
      "        [-0.5000,  2.6000]]) tensor([0, 0])\n",
      "Batch 2: tensor([[ 2.3000, -1.1000],\n",
      "        [-0.9000,  2.9000]]) tensor([1, 0])\n"
     ]
    }
   ],
   "execution_count": 39
  },
  {
   "cell_type": "markdown",
   "id": "d904ca82-e50f-4f3d-a3ac-fc6ca53dd00e",
   "metadata": {},
   "source": [
    "## A.7 一个示例训练轮次"
   ]
  },
  {
   "cell_type": "code",
   "id": "93f1791a-d887-4fc5-a307-5e5bde9e06f6",
   "metadata": {
    "ExecuteTime": {
     "end_time": "2024-12-23T07:48:45.102840Z",
     "start_time": "2024-12-23T07:48:42.134504Z"
    }
   },
   "source": [
    "import torch.nn.functional as F\n",
    "\n",
    "\n",
    "torch.manual_seed(123)\n",
    "model = NeuralNetwork(num_inputs=2, num_outputs=2)\n",
    "optimizer = torch.optim.SGD(model.parameters(), lr=0.5)\n",
    "\n",
    "num_epochs = 3\n",
    "\n",
    "for epoch in range(num_epochs):\n",
    "    \n",
    "    model.train()\n",
    "    for batch_idx, (features, labels) in enumerate(train_loader):\n",
    "\n",
    "        logits = model(features)\n",
    "        \n",
    "        loss = F.cross_entropy(logits, labels) # 损失函数\n",
    "        \n",
    "        optimizer.zero_grad()\n",
    "        loss.backward()\n",
    "        optimizer.step()\n",
    "    \n",
    "        ### 日志\n",
    "        print(f\"Epoch: {epoch+1:03d}/{num_epochs:03d}\"\n",
    "              f\" | Batch {batch_idx:03d}/{len(train_loader):03d}\"\n",
    "              f\" | Train/Val Loss: {loss:.2f}\")\n",
    "\n",
    "    model.eval()\n",
    "    # 可选的模型评估指标"
   ],
   "outputs": [
    {
     "name": "stdout",
     "output_type": "stream",
     "text": [
      "Epoch: 001/003 | Batch 000/002 | Train/Val Loss: 0.75\n",
      "Epoch: 001/003 | Batch 001/002 | Train/Val Loss: 0.65\n",
      "Epoch: 002/003 | Batch 000/002 | Train/Val Loss: 0.44\n",
      "Epoch: 002/003 | Batch 001/002 | Train/Val Loss: 0.13\n",
      "Epoch: 003/003 | Batch 000/002 | Train/Val Loss: 0.03\n",
      "Epoch: 003/003 | Batch 001/002 | Train/Val Loss: 0.00\n"
     ]
    }
   ],
   "execution_count": 40
  },
  {
   "cell_type": "code",
   "id": "00dcf57f-6a7e-4af7-aa5a-df2cb0866fa5",
   "metadata": {
    "ExecuteTime": {
     "end_time": "2024-12-23T07:50:49.818968Z",
     "start_time": "2024-12-23T07:50:49.801017Z"
    }
   },
   "source": [
    "model.eval()\n",
    "\n",
    "with torch.no_grad():\n",
    "    outputs = model(X_train)\n",
    "\n",
    "print(outputs)"
   ],
   "outputs": [
    {
     "name": "stdout",
     "output_type": "stream",
     "text": [
      "tensor([[ 2.8569, -4.1618],\n",
      "        [ 2.5382, -3.7548],\n",
      "        [ 2.0944, -3.1820],\n",
      "        [-1.4814,  1.4816],\n",
      "        [-1.7176,  1.7342]])\n"
     ]
    }
   ],
   "execution_count": 41
  },
  {
   "cell_type": "code",
   "id": "19be7390-18b8-43f9-9841-d7fb1919f6fd",
   "metadata": {
    "ExecuteTime": {
     "end_time": "2024-12-23T07:54:34.693804Z",
     "start_time": "2024-12-23T07:54:34.666878Z"
    }
   },
   "source": [
    "# 设置 PyTorch 的打印选项，以关闭科学计数法\n",
    "torch.set_printoptions(sci_mode=False)\n",
    "\n",
    "# 假设 outputs 是模型的输出张量\n",
    "\n",
    "# 对模型的输出进行 softmax 操作，计算类别概率\n",
    "probas = torch.softmax(outputs, dim=1)\n",
    "print(probas)\n",
    "\n",
    "# 获取模型的预测结果，即具有最大概率的类别\n",
    "predictions = torch.argmax(outputs, dim=1)\n",
    "print(predictions)"
   ],
   "outputs": [
    {
     "name": "stdout",
     "output_type": "stream",
     "text": [
      "tensor([[    0.9991,     0.0009],\n",
      "        [    0.9982,     0.0018],\n",
      "        [    0.9949,     0.0051],\n",
      "        [    0.0491,     0.9509],\n",
      "        [    0.0307,     0.9693]])\n",
      "tensor([0, 0, 0, 1, 1])\n"
     ]
    }
   ],
   "execution_count": 42
  },
  {
   "cell_type": "code",
   "id": "07e7e530-f8d3-429c-9f5e-cf8078078c0e",
   "metadata": {
    "ExecuteTime": {
     "end_time": "2024-12-23T07:54:35.240345Z",
     "start_time": "2024-12-23T07:54:35.231368Z"
    }
   },
   "source": [
    "# 使用 torch.argmax() 函数沿着 dim=1 维度获取每个样本最大值的索引，即模型的预测结果\n",
    "predictions = torch.argmax(outputs, dim=1)\n",
    "print(predictions)"
   ],
   "outputs": [
    {
     "name": "stdout",
     "output_type": "stream",
     "text": [
      "tensor([0, 0, 0, 1, 1])\n"
     ]
    }
   ],
   "execution_count": 43
  },
  {
   "cell_type": "code",
   "id": "5f756f0d-63c8-41b5-a5d8-01baa847e026",
   "metadata": {
    "ExecuteTime": {
     "end_time": "2024-12-23T07:54:36.187024Z",
     "start_time": "2024-12-23T07:54:36.160093Z"
    }
   },
   "source": [
    "predictions == y_train"
   ],
   "outputs": [
    {
     "data": {
      "text/plain": [
       "tensor([True, True, True, True, True])"
      ]
     },
     "execution_count": 44,
     "metadata": {},
     "output_type": "execute_result"
    }
   ],
   "execution_count": 44
  },
  {
   "cell_type": "code",
   "id": "da274bb0-f11c-4c81-a880-7a031fbf2943",
   "metadata": {
    "ExecuteTime": {
     "end_time": "2024-12-23T07:54:37.036443Z",
     "start_time": "2024-12-23T07:54:37.020486Z"
    }
   },
   "source": [
    "torch.sum(predictions == y_train)"
   ],
   "outputs": [
    {
     "data": {
      "text/plain": [
       "tensor(5)"
      ]
     },
     "execution_count": 45,
     "metadata": {},
     "output_type": "execute_result"
    }
   ],
   "execution_count": 45
  },
  {
   "cell_type": "code",
   "id": "16d62314-8dee-45b0-8f55-9e5aae2b24f4",
   "metadata": {
    "ExecuteTime": {
     "end_time": "2024-12-23T07:54:37.934071Z",
     "start_time": "2024-12-23T07:54:37.922105Z"
    }
   },
   "source": [
    "def compute_accuracy(model, dataloader):\n",
    "    \"\"\"\n",
    "    计算模型在给定数据加载器上的准确率。\n",
    "\n",
    "    参数：\n",
    "        model (torch.nn.Module): 待评估的模型。\n",
    "        dataloader (torch.utils.data.DataLoader): 包含输入数据的数据加载器。\n",
    "\n",
    "    返回：\n",
    "        float: 准确率值。\n",
    "    \"\"\"\n",
    "    # 将模型设为评估模式\n",
    "    model = model.eval()\n",
    "    correct = 0.0\n",
    "    total_examples = 0\n",
    "    \n",
    "    # 遍历数据加载器\n",
    "    for idx, (features, labels) in enumerate(dataloader):\n",
    "        \n",
    "        # 使用 no_grad 上下文，以便不跟踪梯度\n",
    "        with torch.no_grad():\n",
    "            # 使用模型进行前向传播获取预测结果\n",
    "            logits = model(features)\n",
    "        \n",
    "        # 获取预测结果并计算正确预测的数量\n",
    "        predictions = torch.argmax(logits, dim=1)\n",
    "        compare = labels == predictions\n",
    "        correct += torch.sum(compare)\n",
    "        total_examples += len(compare)\n",
    "\n",
    "    # 计算并返回准确率\n",
    "    return (correct / total_examples).item()"
   ],
   "outputs": [],
   "execution_count": 46
  },
  {
   "cell_type": "code",
   "id": "4f6c9c17-2a5f-46c0-804b-873f169b729a",
   "metadata": {
    "ExecuteTime": {
     "end_time": "2024-12-23T07:54:40.059780Z",
     "start_time": "2024-12-23T07:54:40.048810Z"
    }
   },
   "source": [
    "compute_accuracy(model, train_loader)"
   ],
   "outputs": [
    {
     "data": {
      "text/plain": [
       "1.0"
      ]
     },
     "execution_count": 47,
     "metadata": {},
     "output_type": "execute_result"
    }
   ],
   "execution_count": 47
  },
  {
   "cell_type": "code",
   "id": "311ed864-e21e-4aac-97c7-c6086caef27a",
   "metadata": {
    "ExecuteTime": {
     "end_time": "2024-12-23T07:54:40.956381Z",
     "start_time": "2024-12-23T07:54:40.929456Z"
    }
   },
   "source": [
    "compute_accuracy(model, test_loader)"
   ],
   "outputs": [
    {
     "data": {
      "text/plain": [
       "1.0"
      ]
     },
     "execution_count": 48,
     "metadata": {},
     "output_type": "execute_result"
    }
   ],
   "execution_count": 48
  },
  {
   "cell_type": "markdown",
   "id": "4d5cd469-3a45-4394-944b-3ce543f41dac",
   "metadata": {},
   "source": [
    "## A.8 保存并加载模型"
   ]
  },
  {
   "cell_type": "code",
   "id": "b013127d-a2c3-4b04-9fb3-a6a7c88d83c5",
   "metadata": {
    "ExecuteTime": {
     "end_time": "2024-12-23T08:03:59.311126Z",
     "start_time": "2024-12-23T08:03:59.299157Z"
    }
   },
   "source": [
    "torch.save(model.state_dict(), \"model.pth\")"
   ],
   "outputs": [],
   "execution_count": 50
  },
  {
   "metadata": {
    "ExecuteTime": {
     "end_time": "2024-12-23T08:03:29.404059Z",
     "start_time": "2024-12-23T08:03:29.375137Z"
    }
   },
   "cell_type": "code",
   "source": "model.state_dict()",
   "id": "70705490a42929b9",
   "outputs": [
    {
     "data": {
      "text/plain": [
       "OrderedDict([('layers.0.weight',\n",
       "              tensor([[-0.3091,  0.1047],\n",
       "                      [-0.3552,  0.2827],\n",
       "                      [-0.6039,  0.5246],\n",
       "                      [-0.5140, -0.5622],\n",
       "                      [-0.4623,  0.3811],\n",
       "                      [-0.2791,  0.3349],\n",
       "                      [-0.6001, -0.4290],\n",
       "                      [-0.2596, -0.1390],\n",
       "                      [-0.5323,  0.4353],\n",
       "                      [-0.1786,  0.2737],\n",
       "                      [ 0.5025,  0.1076],\n",
       "                      [ 0.1365,  0.7400],\n",
       "                      [-0.3292,  0.2645],\n",
       "                      [-0.3306,  0.5677],\n",
       "                      [ 0.6177, -0.6788],\n",
       "                      [ 0.5121,  0.3864],\n",
       "                      [ 0.2444,  0.3179],\n",
       "                      [ 0.6392, -0.1203],\n",
       "                      [-0.5988, -0.2008],\n",
       "                      [-0.5104,  0.0951],\n",
       "                      [-0.0307, -0.4296],\n",
       "                      [-0.0750,  0.7119],\n",
       "                      [ 0.0188, -0.0559],\n",
       "                      [-0.1308,  0.1919],\n",
       "                      [ 0.6124,  0.4841],\n",
       "                      [ 0.2634,  0.1395],\n",
       "                      [ 0.1408,  0.3752],\n",
       "                      [-0.0796, -0.6639],\n",
       "                      [-0.4392,  0.6110],\n",
       "                      [ 0.0745, -0.5911]])),\n",
       "             ('layers.0.bias',\n",
       "              tensor([ 0.1411,  0.5901, -0.6659, -0.4761, -0.2595,  0.0540, -0.1649, -0.0777,\n",
       "                      -0.6994,  0.3481,  0.6087,  0.4238, -0.4860, -0.5473,  0.3154, -0.0211,\n",
       "                       0.2602, -0.6706, -0.0415,  0.5163,  0.3705,  0.0411,  0.1483, -0.0376,\n",
       "                      -0.3728, -0.2661, -0.3935,  0.5916,  0.3918,  0.2590])),\n",
       "             ('layers.2.weight',\n",
       "              tensor([[    -0.1765,     -0.0104,     -0.0568,      0.1263,     -0.1600,\n",
       "                           -0.0521,      0.1783,      0.1228,      0.0534,     -0.1420,\n",
       "                            0.3176,     -0.3461,     -0.0169,     -0.2034,      0.3411,\n",
       "                            0.0370,      0.0108,      0.2979,      0.0904,     -0.0952,\n",
       "                            0.2221,     -0.2786,      0.0928,     -0.0475,      0.0186,\n",
       "                            0.0506,     -0.1596,      0.1975,     -0.1664,      0.3096],\n",
       "                      [    -0.0577,      0.0623,      0.1797,     -0.0783,      0.1714,\n",
       "                           -0.0928,      0.0805,      0.0715,      0.0487,      0.1420,\n",
       "                           -0.0749,      0.0434,      0.0001,     -0.1397,     -0.0443,\n",
       "                           -0.1228,      0.0790,      0.0164,      0.0179,     -0.0576,\n",
       "                            0.0009,     -0.0609,      0.0519,      0.1766,      0.0270,\n",
       "                           -0.0809,     -0.1120,      0.0140,     -0.1406,     -0.1372],\n",
       "                      [    -0.1174,     -0.0644,      0.0121,      0.1257,      0.0712,\n",
       "                            0.1398,     -0.1146,      0.0154,     -0.1650,      0.1046,\n",
       "                           -0.0527,      0.1691,     -0.1296,      0.1470,      0.0279,\n",
       "                            0.0918,     -0.0117,      0.1243,      0.1220,      0.1359,\n",
       "                           -0.0360,     -0.1416,     -0.0073,      0.0364,     -0.1510,\n",
       "                           -0.1131,     -0.1723,     -0.1241,      0.1553,     -0.0220],\n",
       "                      [    -0.0112,      0.0073,      0.1138,     -0.1612,     -0.1409,\n",
       "                           -0.0607,     -0.1051,      0.0942,      0.1290,     -0.1771,\n",
       "                           -0.1549,     -0.1778,      0.0689,      0.1469,     -0.1416,\n",
       "                           -0.0845,      0.0581,     -0.1192,      0.1551,      0.0426,\n",
       "                           -0.0508,      0.0119,      0.0569,     -0.0646,     -0.1415,\n",
       "                            0.0012,      0.0033,      0.0037,     -0.0266,      0.1172],\n",
       "                      [    -0.0509,     -0.0177,      0.0751,     -0.1149,      0.0489,\n",
       "                           -0.0404,      0.0876,     -0.0990,      0.0067,      0.0179,\n",
       "                           -0.1469,     -0.1328,      0.0700,     -0.0531,      0.1084,\n",
       "                           -0.1804,     -0.0903,     -0.1504,      0.0729,     -0.0053,\n",
       "                           -0.0341,     -0.0304,     -0.1427,      0.0518,      0.0046,\n",
       "                           -0.1260,      0.0687,     -0.0037,     -0.1766,      0.0982],\n",
       "                      [     0.1413,      0.1207,     -0.0084,      0.0073,      0.2338,\n",
       "                            0.2646,     -0.1378,     -0.0825,      0.2331,      0.2003,\n",
       "                            0.0020,      0.1195,      0.1929,     -0.0405,     -0.2537,\n",
       "                           -0.0485,      0.0486,     -0.2187,      0.1677,      0.2797,\n",
       "                           -0.1729,      0.2012,     -0.0856,      0.2147,      0.0898,\n",
       "                            0.0916,      0.0888,     -0.1348,      0.3362,     -0.1002],\n",
       "                      [    -0.0666,      0.0943,      0.0573,     -0.0473,     -0.0500,\n",
       "                           -0.1615,     -0.0500,     -0.0740,     -0.0995,     -0.1649,\n",
       "                            0.1168,     -0.1662,      0.1812,     -0.0958,     -0.0443,\n",
       "                            0.1300,      0.0466,     -0.0614,     -0.1470,     -0.0746,\n",
       "                            0.1440,     -0.0689,      0.1538,     -0.0314,     -0.0301,\n",
       "                            0.0715,     -0.0268,     -0.0169,      0.1264,      0.0470],\n",
       "                      [     0.0263,      0.1922,      0.2519,      0.0460,      0.0215,\n",
       "                            0.1363,     -0.0160,     -0.1427,      0.0020,      0.1702,\n",
       "                            0.0558,      0.2422,     -0.0791,      0.2582,     -0.0762,\n",
       "                            0.0835,     -0.0180,     -0.0881,      0.0819,      0.0278,\n",
       "                           -0.1158,      0.0785,      0.1470,      0.1400,      0.1438,\n",
       "                           -0.1556,      0.1082,      0.0456,      0.0618,      0.0058],\n",
       "                      [     0.0175,     -0.1775,     -0.1365,      0.1489,     -0.0607,\n",
       "                           -0.0493,     -0.1156,     -0.1092,      0.1196,      0.0139,\n",
       "                           -0.0608,      0.0016,     -0.1039,     -0.2117,     -0.1813,\n",
       "                            0.0478,     -0.1153,      0.1121,      0.1560,      0.0109,\n",
       "                            0.1569,     -0.1386,      0.1470,     -0.1030,     -0.0421,\n",
       "                            0.1212,     -0.1049,      0.1393,     -0.0740,     -0.0036],\n",
       "                      [     0.1663,      0.1613,     -0.0563,      0.0177,      0.0392,\n",
       "                            0.1671,      0.1026,      0.1478,      0.1232,     -0.1389,\n",
       "                            0.0252,     -0.0172,      0.1531,      0.1354,     -0.2561,\n",
       "                           -0.0741,     -0.0008,      0.0028,     -0.1690,      0.0257,\n",
       "                            0.0666,      0.1361,      0.0856,      0.0394,     -0.1981,\n",
       "                            0.1103,     -0.1340,     -0.1785,      0.0387,     -0.0074],\n",
       "                      [     0.1019,     -0.0363,     -0.1019,     -0.0157,      0.0522,\n",
       "                           -0.1102,     -0.1586,      0.0872,     -0.1258,     -0.1114,\n",
       "                            0.1690,     -0.1379,     -0.1508,      0.1300,     -0.0450,\n",
       "                            0.0166,      0.1796,     -0.0579,      0.1701,      0.1375,\n",
       "                            0.1534,      0.0397,     -0.0775,      0.1105,     -0.1203,\n",
       "                           -0.1026,     -0.0922,      0.0975,      0.0092,      0.1319],\n",
       "                      [     0.1200,      0.0107,      0.1064,     -0.1319,     -0.1745,\n",
       "                           -0.1487,      0.1007,      0.1679,     -0.0505,      0.1010,\n",
       "                           -0.1305,     -0.0034,     -0.0011,     -0.0529,     -0.0885,\n",
       "                            0.0857,     -0.0159,     -0.0362,      0.1268,     -0.1386,\n",
       "                            0.1192,      0.1621,     -0.1122,     -0.1730,      0.0254,\n",
       "                           -0.1389,      0.0763,     -0.1456,     -0.1425,      0.0494],\n",
       "                      [    -0.0468,     -0.1616,      0.0712,      0.0645,      0.0246,\n",
       "                            0.1193,     -0.0733,      0.1666,     -0.1391,      0.1646,\n",
       "                            0.1205,     -0.1653,     -0.0162,     -0.0982,      0.1677,\n",
       "                           -0.0205,      0.0975,      0.1549,     -0.1408,      0.1110,\n",
       "                           -0.1572,     -0.0493,     -0.0708,     -0.1708,     -0.1747,\n",
       "                           -0.1759,     -0.1412,     -0.1090,     -0.0602,      0.0954],\n",
       "                      [    -0.0293,     -0.1808,     -0.1326,      0.1310,     -0.1782,\n",
       "                           -0.0898,     -0.1652,      0.0982,      0.1248,      0.0160,\n",
       "                           -0.0918,     -0.0443,      0.0106,      0.0765,      0.0032,\n",
       "                           -0.0851,      0.0088,      0.0056,      0.0017,      0.0794,\n",
       "                           -0.0688,      0.0115,      0.0008,      0.0771,     -0.1118,\n",
       "                           -0.1427,     -0.1486,      0.0767,      0.1452,      0.1811],\n",
       "                      [     0.0652,     -0.0372,      0.0336,     -0.1805,      0.0211,\n",
       "                           -0.0603,     -0.0139,      0.1049,     -0.0628,     -0.1383,\n",
       "                            0.0110,     -0.0508,     -0.0851,     -0.0558,     -0.1035,\n",
       "                            0.1603,      0.0126,     -0.0969,      0.1164,      0.0282,\n",
       "                            0.1048,      0.1407,      0.1804,     -0.0473,      0.0054,\n",
       "                           -0.1058,      0.1666,      0.0581,     -0.0302,      0.0458],\n",
       "                      [     0.1946,      0.1046,      0.1123,      0.1686,      0.0310,\n",
       "                            0.0234,      0.0453,     -0.1687,      0.0781,      0.0241,\n",
       "                           -0.1742,      0.0471,      0.1703,      0.0790,     -0.4158,\n",
       "                            0.0726,      0.0578,      0.0093,      0.0755,      0.0402,\n",
       "                           -0.1487,      0.1588,     -0.1439,     -0.0960,     -0.0415,\n",
       "                           -0.1582,      0.1792,      0.0621,      0.1365,      0.0058],\n",
       "                      [    -0.1761,      0.1602,      0.0339,     -0.1153,     -0.1259,\n",
       "                            0.0457,      0.1100,     -0.0489,     -0.0430,     -0.0333,\n",
       "                           -0.1696,      0.1353,     -0.0152,     -0.1657,     -0.1369,\n",
       "                            0.0584,     -0.1738,      0.1286,     -0.1508,     -0.0045,\n",
       "                            0.0538,     -0.0827,     -0.1183,     -0.0186,      0.0337,\n",
       "                           -0.0325,      0.0825,      0.0956,      0.0772,      0.1687],\n",
       "                      [    -0.1112,     -0.1471,      0.0442,      0.0332,      0.1749,\n",
       "                            0.1764,      0.0783,      0.1081,      0.0825,     -0.0143,\n",
       "                           -0.1711,     -0.0734,     -0.1553,      0.1290,     -0.0987,\n",
       "                           -0.1441,     -0.0243,      0.1242,      0.0798,      0.0662,\n",
       "                           -0.0111,     -0.1680,     -0.1083,     -0.1547,     -0.0547,\n",
       "                            0.1259,     -0.1213,     -0.0470,      0.1779,      0.1254],\n",
       "                      [     0.0789,      0.1550,     -0.0073,     -0.0980,      0.1178,\n",
       "                            0.0749,     -0.0566,      0.1409,     -0.1084,      0.0253,\n",
       "                            0.1635,      0.1164,     -0.1338,      0.0589,     -0.0261,\n",
       "                            0.0913,      0.1267,     -0.1292,     -0.0601,      0.1778,\n",
       "                           -0.1331,      0.0088,     -0.0587,     -0.0325,     -0.0126,\n",
       "                            0.1049,      0.1241,     -0.0654,      0.0800,     -0.1694],\n",
       "                      [    -0.0690,     -0.0171,     -0.0066,      0.0333,      0.0100,\n",
       "                           -0.0543,      0.1315,     -0.0598,      0.1458,      0.1078,\n",
       "                           -0.0040,     -0.0673,      0.1124,      0.0020,     -0.0993,\n",
       "                            0.0989,      0.0141,      0.1752,     -0.1796,      0.0445,\n",
       "                           -0.1668,     -0.0813,     -0.0180,      0.1483,     -0.0759,\n",
       "                           -0.1060,     -0.0119,     -0.0223,     -0.1447,      0.0052]])),\n",
       "             ('layers.2.bias',\n",
       "              tensor([ 0.1525, -0.0806, -0.2009, -0.1292,  0.0867, -0.0168,  0.1173,  0.0628,\n",
       "                      -0.0469,  0.1035,  0.0675, -0.1292,  0.0258, -0.0052, -0.1201,  0.0693,\n",
       "                       0.0852, -0.0775, -0.1373,  0.0773])),\n",
       "             ('layers.4.weight',\n",
       "              tensor([[-0.4771,  0.0494, -0.0261,  0.0374,  0.0446,  0.3789, -0.2163,  0.1700,\n",
       "                       -0.1032,  0.2290, -0.0743,  0.1948,  0.0510, -0.0398, -0.0949,  0.2975,\n",
       "                       -0.1425, -0.1026,  0.0229, -0.1448],\n",
       "                      [ 0.4594,  0.0563, -0.2063, -0.2204,  0.0975, -0.4082, -0.0718, -0.3913,\n",
       "                        0.0549, -0.1645,  0.0903, -0.2146,  0.2373, -0.1905,  0.0303, -0.3012,\n",
       "                       -0.1598, -0.0063, -0.3436,  0.1861]])),\n",
       "             ('layers.4.bias', tensor([-0.1297,  0.1398]))])"
      ]
     },
     "execution_count": 49,
     "metadata": {},
     "output_type": "execute_result"
    }
   ],
   "execution_count": 49
  },
  {
   "cell_type": "code",
   "id": "b2b428c2-3a44-4d91-97c4-8298cf2b51eb",
   "metadata": {
    "ExecuteTime": {
     "end_time": "2024-12-23T08:06:49.407920Z",
     "start_time": "2024-12-23T08:06:49.387927Z"
    }
   },
   "source": [
    "model = NeuralNetwork(2, 2) # 需要与原始模型完全匹配\n",
    "model.load_state_dict(torch.load(\"model.pth\"))"
   ],
   "outputs": [
    {
     "name": "stderr",
     "output_type": "stream",
     "text": [
      "C:\\Users\\13240\\AppData\\Local\\Temp\\ipykernel_25376\\1687915695.py:2: FutureWarning: You are using `torch.load` with `weights_only=False` (the current default value), which uses the default pickle module implicitly. It is possible to construct malicious pickle data which will execute arbitrary code during unpickling (See https://github.com/pytorch/pytorch/blob/main/SECURITY.md#untrusted-models for more details). In a future release, the default value for `weights_only` will be flipped to `True`. This limits the functions that could be executed during unpickling. Arbitrary objects will no longer be allowed to be loaded via this mode unless they are explicitly allowlisted by the user via `torch.serialization.add_safe_globals`. We recommend you start setting `weights_only=True` for any use case where you don't have full control of the loaded file. Please open an issue on GitHub for any issues related to this experimental feature.\n",
      "  model.load_state_dict(torch.load(\"model.pth\"))\n"
     ]
    },
    {
     "data": {
      "text/plain": [
       "<All keys matched successfully>"
      ]
     },
     "execution_count": 52,
     "metadata": {},
     "output_type": "execute_result"
    }
   ],
   "execution_count": 52
  },
  {
   "cell_type": "markdown",
   "id": "f891c013-43da-4a05-973d-997be313d2d8",
   "metadata": {},
   "source": [
    "## A.9 使用GPU来优化训练性能"
   ]
  },
  {
   "cell_type": "markdown",
   "id": "e68ae888-cabf-49c9-bad6-ecdce774db57",
   "metadata": {},
   "source": [
    "### A.9.1 在GPU上进行 PyTorch 的运算"
   ]
  },
  {
   "cell_type": "markdown",
   "id": "141c845f-efe3-4614-b376-b8b7a9a2c887",
   "metadata": {},
   "source": [
    "See [code-part2.ipynb](code-part2.ipynb)  "
   ]
  },
  {
   "cell_type": "markdown",
   "id": "99811829-b817-42ea-b03e-d35374debcc0",
   "metadata": {},
   "source": [
    "### A.9.2 单个GPU的训练"
   ]
  },
  {
   "cell_type": "markdown",
   "id": "0b21456c-4af7-440f-9e78-37770277b5bc",
   "metadata": {},
   "source": [
    "See [code-part2.ipynb](code-part2.ipynb)"
   ]
  },
  {
   "cell_type": "markdown",
   "id": "db6eb2d1-a341-4489-b04b-635c26945333",
   "metadata": {},
   "source": [
    "### A.9.3 多GPU的训练"
   ]
  },
  {
   "cell_type": "markdown",
   "id": "9d049a81-5fb0-49b5-9d6a-17a9976d8520",
   "metadata": {},
   "source": [
    "See [DDP-script.py](DDP-script.py)"
   ]
  },
  {
   "cell_type": "code",
   "execution_count": null,
   "id": "b32db94f-f159-4aa3-91cc-5b937eef7fc7",
   "metadata": {},
   "outputs": [],
   "source": []
  }
 ],
 "metadata": {
  "kernelspec": {
   "display_name": "Python 3.10.11",
   "language": "python",
   "name": "python310"
  },
  "language_info": {
   "codemirror_mode": {
    "name": "ipython",
    "version": 3
   },
   "file_extension": ".py",
   "mimetype": "text/x-python",
   "name": "python",
   "nbconvert_exporter": "python",
   "pygments_lexer": "ipython3",
   "version": "3.10.6"
  }
 },
 "nbformat": 4,
 "nbformat_minor": 5
}
