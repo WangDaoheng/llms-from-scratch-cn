{
 "cells": [
  {
   "cell_type": "code",
   "execution_count": 1,
   "id": "67f6f7ed-b67d-465b-bf6f-a99b0d996930",
   "metadata": {},
   "outputs": [
    {
     "name": "stdout",
     "output_type": "stream",
     "text": [
      "[OK] Your Python version is 3.11.4\n",
      "[OK] numpy 1.25.2\n",
      "[OK] scipy 1.11.1\n",
      "[OK] pandas 2.0.3\n",
      "[OK] matplotlib 3.7.2\n",
      "[OK] jupyterlab 4.0.4\n",
      "[OK] watermark 2.4.3\n",
      "[OK] torch 2.0.1\n",
      "[OK] tiktoken 0.5.1\n"
     ]
    }
   ],
   "source": [
    "from python_environment_check import check_packages, get_requirements_dict\n",
    "\n",
    "d = get_requirements_dict()\n",
    "check_packages(d)"
   ]
  },
  {
   "cell_type": "code",
   "id": "d5ca05fc-98e0-4bba-a95e-350e1764a12c",
   "metadata": {
    "ExecuteTime": {
     "end_time": "2024-12-21T06:56:06.248532Z",
     "start_time": "2024-12-21T06:56:05.818680Z"
    }
   },
   "source": [
    "from python_environment_check import check_packages, get_requirements_dict\n",
    "\n",
    "d = get_requirements_dict()\n",
    "check_packages(d)"
   ],
   "outputs": [
    {
     "name": "stdout",
     "output_type": "stream",
     "text": [
      "[OK] numpy 1.26.3\n",
      "[OK] scipy 1.14.1\n",
      "[OK] pandas 2.2.3\n",
      "[OK] matplotlib 3.10.0\n",
      "[OK] jupyterlab 4.3.4\n",
      "[OK] watermark 2.5.0\n",
      "[OK] torch 2.5.1+cu124\n",
      "[OK] tiktoken 0.8.0\n"
     ]
    }
   ],
   "execution_count": 5
  },
  {
   "metadata": {},
   "cell_type": "code",
   "outputs": [],
   "execution_count": null,
   "source": "",
   "id": "9c2f306dacc8088d"
  },
  {
   "metadata": {
    "ExecuteTime": {
     "end_time": "2024-12-21T06:56:10.833055Z",
     "start_time": "2024-12-21T06:56:10.821091Z"
    }
   },
   "cell_type": "code",
   "source": [
    "import sys\n",
    "print(sys.version)"
   ],
   "id": "76b0936b6a9f818d",
   "outputs": [
    {
     "name": "stdout",
     "output_type": "stream",
     "text": [
      "3.10.11 (tags/v3.10.11:7d4cc5a, Apr  5 2023, 00:38:17) [MSC v.1929 64 bit (AMD64)]\n"
     ]
    }
   ],
   "execution_count": 6
  },
  {
   "metadata": {
    "ExecuteTime": {
     "end_time": "2024-12-21T06:56:12.975325Z",
     "start_time": "2024-12-21T06:56:12.963359Z"
    }
   },
   "cell_type": "code",
   "source": [
    "import sys\n",
    "print(sys.version)"
   ],
   "id": "5c4f404380b93504",
   "outputs": [
    {
     "name": "stdout",
     "output_type": "stream",
     "text": [
      "3.10.11 (tags/v3.10.11:7d4cc5a, Apr  5 2023, 00:38:17) [MSC v.1929 64 bit (AMD64)]\n"
     ]
    }
   ],
   "execution_count": 7
  },
  {
   "metadata": {},
   "cell_type": "code",
   "outputs": [],
   "execution_count": null,
   "source": "",
   "id": "d7d05f7f77d02e06"
  }
 ],
 "metadata": {
  "kernelspec": {
   "display_name": "Python 3.10.11",
   "language": "python",
   "name": "python310"
  },
  "language_info": {
   "codemirror_mode": {
    "name": "ipython",
    "version": 3
   },
   "file_extension": ".py",
   "mimetype": "text/x-python",
   "name": "python",
   "nbconvert_exporter": "python",
   "pygments_lexer": "ipython3",
   "version": "3.11.5"
  }
 },
 "nbformat": 4,
 "nbformat_minor": 5
}
